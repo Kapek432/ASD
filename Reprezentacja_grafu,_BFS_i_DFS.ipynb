{
  "nbformat": 4,
  "nbformat_minor": 0,
  "metadata": {
    "colab": {
      "provenance": [],
      "mount_file_id": "1IoRmJNb3gXFyssIdKNqKZq012VOeo4HG",
      "authorship_tag": "ABX9TyPKsnv2LKrio6SJ8KlZHA/t",
      "include_colab_link": true
    },
    "kernelspec": {
      "name": "python3",
      "display_name": "Python 3"
    },
    "language_info": {
      "name": "python"
    }
  },
  "cells": [
    {
      "cell_type": "markdown",
      "metadata": {
        "id": "view-in-github",
        "colab_type": "text"
      },
      "source": [
        "<a href=\"https://colab.research.google.com/github/Kapek432/ASD/blob/main/Reprezentacja_grafu%2C_BFS_i_DFS.ipynb\" target=\"_parent\"><img src=\"https://colab.research.google.com/assets/colab-badge.svg\" alt=\"Open In Colab\"/></a>"
      ]
    },
    {
      "cell_type": "markdown",
      "source": [
        "# Reprezentacja grafu w pamięci komputera\n"
      ],
      "metadata": {
        "id": "nnHXtyLlywmS"
      }
    },
    {
      "cell_type": "markdown",
      "source": [
        "## Lista/tablica krawędzi\n",
        "\n",
        "Najprosztsza metoda, jednak trudno zaimplementować dla niej algorytmy przeszukujące graf. Z reguły się nie używa tej implementacji, ze względu na wysoką złożoność wielu operacji oraz trudność ich wykonania."
      ],
      "metadata": {
        "id": "7wpzCf7H6FPv"
      }
    },
    {
      "cell_type": "markdown",
      "source": [
        "### Przykład"
      ],
      "metadata": {
        "id": "xh6mWW486aB2"
      }
    },
    {
      "cell_type": "code",
      "source": [
        "G = [(1,2),(2,3),(4,3),(3,5),(1,5),(2,4)]"
      ],
      "metadata": {
        "id": "iXRs9uln6cjl"
      },
      "execution_count": null,
      "outputs": []
    },
    {
      "cell_type": "markdown",
      "source": [
        "## Macierz sąsiedztwa (Adjacency matrix)"
      ],
      "metadata": {
        "id": "PLSwwjnjy6EW"
      }
    },
    {
      "cell_type": "markdown",
      "source": [
        "Macierz sąsiedztwa (ang. adjacency matrix) - macierz kwadratowa G o stopniu n, gdzie n oznacza liczbę wierzchołków w grafie. Odwzorowuje ona połączenia wierzchołków krawędziami. Wiersze macierzy sąsiedztwa odwzorowują zawsze wierzchołki startowe krawędzi, a kolumny odwzorowują wierzchołki końcowe krawędzi. Komórka G[i,j], która znajduje się w i-tym wierszu i j-tej kolumnie, odwzorowuje krawędź łączącą wierzchołek startowy vi z wierzchołkiem końcowym vj. Jeśli G[i,j] ma wartość 1, to dana krawędź istnieje. Jeśli G[i,j] ma wartość 0, to wierzchołek vi nie łączy się krawędzią z wierzchołkiem vj.\n",
        "\n",
        "W grafach nieskierowanych jest symetrczna względem głownej przekątnej."
      ],
      "metadata": {
        "id": "AYdoMxJJy_i2"
      }
    },
    {
      "cell_type": "markdown",
      "source": [
        "### Implementacja 1\n",
        "#### Graf nieskierowany bez krawędzi wielokrotnych"
      ],
      "metadata": {
        "id": "XUocXhU8z2j0"
      }
    },
    {
      "cell_type": "code",
      "source": [
        "def undirected_graph_matrix(E,n):\n",
        "  '''E - lista krawędzi, n - liczba wierzchołków'''\n",
        "  M = [[0] * n for _ in range(n)]\n",
        "  for e in E:\n",
        "    M[e[0]][e[1]] = 1\n",
        "    M[e[1]][e[0]] = 1\n",
        "  return M\n",
        "\n",
        "E = [(0,2),(0,5),(1,2),(2,3),(4,3),(3,5),(1,5),(2,4)]\n",
        "n = 6\n",
        "G = undirected_graph_matrix(E,n)\n",
        "print(*G, sep='\\n')"
      ],
      "metadata": {
        "colab": {
          "base_uri": "https://localhost:8080/"
        },
        "id": "EHAlBq3R7WfG",
        "outputId": "7c08551a-5f57-4dfd-b929-480192063c9e"
      },
      "execution_count": 33,
      "outputs": [
        {
          "output_type": "stream",
          "name": "stdout",
          "text": [
            "[0, 0, 1, 0, 0, 1]\n",
            "[0, 0, 1, 0, 0, 1]\n",
            "[1, 1, 0, 1, 1, 0]\n",
            "[0, 0, 1, 0, 1, 1]\n",
            "[0, 0, 1, 1, 0, 0]\n",
            "[1, 1, 0, 1, 0, 0]\n"
          ]
        }
      ]
    },
    {
      "cell_type": "markdown",
      "source": [
        "### Implementacja 2\n",
        "#### Graf skierowany bez krawędzi wielokrotnych\n"
      ],
      "metadata": {
        "id": "HdZ721SZz7ZM"
      }
    },
    {
      "cell_type": "code",
      "source": [
        "def directed_graph_matrix(E,n):\n",
        "  '''E - lista krawędzi, n - liczba wierzchołków'''\n",
        "  M = [[0] * n for _ in range(n)]\n",
        "  for e in E:\n",
        "    M[e[0]][e[1]] = 1\n",
        "  return M\n",
        "\n",
        "E = [(0,2),(0,5),(1,2),(2,3),(4,3),(3,5),(1,5),(2,4)]\n",
        "n = 6\n",
        "G = directed_graph_matrix(E,n)\n",
        "print(*G, sep='\\n')"
      ],
      "metadata": {
        "colab": {
          "base_uri": "https://localhost:8080/"
        },
        "id": "gWfdhyxS9BLT",
        "outputId": "3a4a8697-2b54-42f8-ddf3-a5df1bcb78ad"
      },
      "execution_count": 12,
      "outputs": [
        {
          "output_type": "stream",
          "name": "stdout",
          "text": [
            "[0, 0, 1, 0, 0, 1]\n",
            "[0, 0, 1, 0, 0, 1]\n",
            "[0, 0, 0, 1, 1, 0]\n",
            "[0, 0, 0, 0, 0, 1]\n",
            "[0, 0, 0, 1, 0, 0]\n",
            "[0, 0, 0, 0, 0, 0]\n"
          ]
        }
      ]
    },
    {
      "cell_type": "markdown",
      "source": [
        "### Implementacja 3\n",
        "#### Graf nieskierowany ważony bez krawędzi wielokrotnych"
      ],
      "metadata": {
        "id": "nca2t5gmImJY"
      }
    },
    {
      "cell_type": "code",
      "source": [
        "def weighted_undirected_graph_matrix(E,n):\n",
        "  '''E - lista ważonych krawędzi, n - liczba wierzchołków'''\n",
        "  M = [[0] * n for _ in range(n)]\n",
        "  for e in E:\n",
        "    M[e[0]][e[1]] = M[e[1]][e[0]] = e[2]\n",
        "  return M\n",
        "\n",
        "E = [(0,2,1),(0,5,2),(1,2,3),(2,3,4),(4,3,5),(3,5,6),(1,5,7)]\n",
        "n = 6\n",
        "G = weighted_undirected_graph_matrix(E,n)\n",
        "print(*G, sep='\\n')"
      ],
      "metadata": {
        "colab": {
          "base_uri": "https://localhost:8080/"
        },
        "id": "VP3XCshXI4-H",
        "outputId": "61706b8d-4550-4175-c3ca-a851436dc4bc"
      },
      "execution_count": 20,
      "outputs": [
        {
          "output_type": "stream",
          "name": "stdout",
          "text": [
            "[0, 0, 1, 0, 0, 2]\n",
            "[0, 0, 3, 0, 0, 7]\n",
            "[1, 3, 0, 4, 0, 0]\n",
            "[0, 0, 4, 0, 5, 6]\n",
            "[0, 0, 0, 5, 0, 0]\n",
            "[2, 7, 0, 6, 0, 0]\n"
          ]
        }
      ]
    },
    {
      "cell_type": "markdown",
      "source": [
        "### Implementacja 4\n",
        "#### Graf skierowany ważony bez krawędzi wielokrotnych"
      ],
      "metadata": {
        "id": "aROEMi-PKd4g"
      }
    },
    {
      "cell_type": "code",
      "source": [
        "def weighted_directed_graph_matrix(E,n):\n",
        "  '''E - lista ważonych krawędzi, n - liczba wierzchołków'''\n",
        "  M = [[0] * n for _ in range(n)]\n",
        "  for e in E:\n",
        "    M[e[0]][e[1]] = e[2]\n",
        "  return M\n",
        "\n",
        "E = [(0,2,1),(0,5,2),(1,2,3),(2,3,4),(4,3,5),(3,5,6),(1,5,7)]\n",
        "n = 6\n",
        "G = weighted_directed_graph_matrix(E,n)\n",
        "print(*G, sep='\\n')"
      ],
      "metadata": {
        "colab": {
          "base_uri": "https://localhost:8080/"
        },
        "id": "-b634VONKsGn",
        "outputId": "5853560f-ec64-43ac-f1ef-8ec3ccbc6be8"
      },
      "execution_count": 22,
      "outputs": [
        {
          "output_type": "stream",
          "name": "stdout",
          "text": [
            "[0, 0, 1, 0, 0, 2]\n",
            "[0, 0, 3, 0, 0, 7]\n",
            "[0, 0, 0, 4, 0, 0]\n",
            "[0, 0, 0, 0, 0, 6]\n",
            "[0, 0, 0, 5, 0, 0]\n",
            "[0, 0, 0, 0, 0, 0]\n"
          ]
        }
      ]
    },
    {
      "cell_type": "markdown",
      "source": [
        "### Implementacja 5\n",
        "#### Dla grafów nieskierowanych ważonych o krawędziach wielokrotnych (dopuszczalne pętle)"
      ],
      "metadata": {
        "id": "46rla1VHK8U2"
      }
    },
    {
      "cell_type": "code",
      "source": [
        "def weighted_undirected_multigraph_matrix(E,n):\n",
        "  '''E - lista ważonych krawędzi, n - liczba wierzchołków'''\n",
        "  M = [[[] * n for _ in range(n)] for _ in range(n)]\n",
        "  for e in E:\n",
        "    M[e[0]][e[1]].append(e[2])\n",
        "    if e[0] != e[1]:\n",
        "      M[e[1]][e[0]].append(e[2])\n",
        "  return M\n",
        "\n",
        "E = [(0, 1, -5), (3, 1, 10), (2, 3, 7), (1, 2, -3), (2, 4, 0), (3, 1, -5), (0, 1, 2), (0, 0, -10)]\n",
        "G = weighted_undirected_multigraph_matrix(E, 5)\n",
        "print(*G, sep='\\n')"
      ],
      "metadata": {
        "colab": {
          "base_uri": "https://localhost:8080/"
        },
        "id": "Ptg5X2lxK76f",
        "outputId": "18a2065d-048d-4291-a97a-21ddc6ba9514"
      },
      "execution_count": 25,
      "outputs": [
        {
          "output_type": "stream",
          "name": "stdout",
          "text": [
            "[[-10], [-5, 2], [], [], []]\n",
            "[[-5, 2], [], [-3], [10, -5], []]\n",
            "[[], [-3], [], [7], [0]]\n",
            "[[], [10, -5], [7], [], []]\n",
            "[[], [], [0], [], []]\n"
          ]
        }
      ]
    },
    {
      "cell_type": "markdown",
      "source": [
        "### Implementacja 6\n",
        "#### Dla grafów skierowanych ważonych o krawędziach wielokrotnych (dopuszczalne pętle)"
      ],
      "metadata": {
        "id": "3yo4wy-lK88f"
      }
    },
    {
      "cell_type": "code",
      "source": [
        "def weighted_directed_multigraph_matrix(E,n):\n",
        "  '''E - lista ważonych krawędzi, n - liczba wierzchołków'''\n",
        "  M = [[[] * n for _ in range(n)] for _ in range(n)]\n",
        "  for e in E:\n",
        "    M[e[0]][e[1]].append(e[2])\n",
        "  return M\n",
        "\n",
        "E = [(0, 1, -5), (3, 1, 10), (2, 3, 7), (1, 2, -3), (2, 4, 0), (3, 1, -5), (0, 1, 2), (0, 0, -10)]\n",
        "G = weighted_directed_multigraph_matrix(E, 5)\n",
        "print(*G, sep='\\n')"
      ],
      "metadata": {
        "colab": {
          "base_uri": "https://localhost:8080/"
        },
        "id": "SoCNwuYdK9EW",
        "outputId": "79d7549e-0d35-4d0a-a796-3dc57210abd4"
      },
      "execution_count": 24,
      "outputs": [
        {
          "output_type": "stream",
          "name": "stdout",
          "text": [
            "[[-10], [-5, 2], [], [], []]\n",
            "[[], [], [-3], [], []]\n",
            "[[], [], [], [7], [0]]\n",
            "[[], [10, -5], [], [], []]\n",
            "[[], [], [], [], []]\n"
          ]
        }
      ]
    },
    {
      "cell_type": "markdown",
      "source": [
        "## Macierz incydencji (incidence matrix)"
      ],
      "metadata": {
        "id": "XQIuqOQd9--C"
      }
    },
    {
      "cell_type": "markdown",
      "source": [
        "Macierz incydencji (ang. incidence matrix) jest macierzą A o wymiarze n × m, gdzie n oznacza liczbę wierzchołków grafu, a m liczbę jego krawędzi. Każdy wiersz tej macierzy odwzorowuje jeden wierzchołek grafu. Każda kolumna odwzorowuje jedną krawędź. Zawartość komórki A[i, j] określa powiązanie (incydencję) wierzchołka vi z krawędzią ej w sposób następujący:\n",
        "- 0 jeśli wierchołek nie należy do krawędzi\n",
        "- 1 jeśli jest początkiem\n",
        "- -1 jeśli jest końcem\n",
        "\n",
        "Aby zaimplementować musimy pooznaczać krawędzie."
      ],
      "metadata": {
        "id": "oLK6_QJd-FeL"
      }
    },
    {
      "cell_type": "markdown",
      "source": [
        "## Lista sąsiedztwa (Adjacency list)\n",
        "\n"
      ],
      "metadata": {
        "id": "N9DqjRgt-3QK"
      }
    },
    {
      "cell_type": "markdown",
      "source": [
        "Do reprezentacji grafu wykorzystujemy tablicę n elementową A, gdzie n oznacza liczbę wierzchołków. Każdy element tej tablicy jest listą. Lista reprezentuje wierzchołek startowy. Na liście są przechowywane numery wierzchołków końcowych, czyli sąsiadów wierzchołka startowego, z którymi jest on połączony krawędzią.\n",
        "\n",
        "W przypadku grafu nieskierowanego listy są dłuższe, ponieważ muszą odzwierciedlać krawędzie biegnące w obu kierunkach."
      ],
      "metadata": {
        "id": "sxp0P5_gCTav"
      }
    },
    {
      "cell_type": "markdown",
      "source": [
        "### Implementacja 1\n",
        "#### Graf nieskierowany bez krawędzi wielokrotnych"
      ],
      "metadata": {
        "id": "UDD7gNlyCo8X"
      }
    },
    {
      "cell_type": "code",
      "source": [
        "def undirected_graph_list(E,n):\n",
        "  G = [[] for _ in range(n)]\n",
        "  for e in E:\n",
        "    G[e[0]].append(e[1])\n",
        "    G[e[1]].append(e[0])\n",
        "  return G\n",
        "\n",
        "E = [(0, 1), (3, 1), (2, 3), (1, 2), (2, 4)]\n",
        "n = 5\n",
        "G = undirected_graph_list(E,n)\n",
        "print(*G, sep='\\n')"
      ],
      "metadata": {
        "colab": {
          "base_uri": "https://localhost:8080/"
        },
        "id": "CA3YjF9T9fLr",
        "outputId": "6b2cd7ce-1bf8-45c1-f830-a1ae469a99d8"
      },
      "execution_count": 30,
      "outputs": [
        {
          "output_type": "stream",
          "name": "stdout",
          "text": [
            "[1]\n",
            "[0, 3, 2]\n",
            "[3, 1, 4]\n",
            "[1, 2]\n",
            "[2]\n"
          ]
        }
      ]
    },
    {
      "cell_type": "markdown",
      "source": [
        "### Implementacja 2\n",
        "#### Graf skierowany bez krawędzi wielokrotnych\n"
      ],
      "metadata": {
        "id": "-NF1dcIVDJMf"
      }
    },
    {
      "cell_type": "code",
      "source": [
        "def directed_graph_list(E,n):\n",
        "  G = [[] for _ in range(n)]\n",
        "  for e in E:\n",
        "    G[e[0]].append(e[1])\n",
        "  return G\n",
        "\n",
        "E = [(0, 1), (3, 1), (2, 3), (1, 2), (2, 4)]\n",
        "n = 5\n",
        "G = directed_graph_list(E,n)\n",
        "print(*G, sep='\\n')"
      ],
      "metadata": {
        "colab": {
          "base_uri": "https://localhost:8080/"
        },
        "id": "RrH81T4dC54z",
        "outputId": "a011c0a7-97e5-4050-d55d-9a93e675cc29"
      },
      "execution_count": 19,
      "outputs": [
        {
          "output_type": "stream",
          "name": "stdout",
          "text": [
            "[1]\n",
            "[2]\n",
            "[3, 4]\n",
            "[1]\n",
            "[]\n"
          ]
        }
      ]
    },
    {
      "cell_type": "markdown",
      "source": [
        "### Implementacja 3\n",
        "#### Dla grafów nieskierowanych ważonych o krawędziach wielokrotnych (dopuszczalne pętle)"
      ],
      "metadata": {
        "id": "n7sIAtZzM9CZ"
      }
    },
    {
      "cell_type": "code",
      "source": [
        "def weighted_undirected_graph_list(E,n):\n",
        "  G = [[] for _ in range(n)]\n",
        "  for e in E:\n",
        "    G[e[0]].append((e[1],e[2]))\n",
        "    # Jeśli nie chcemy zeby petla 2 razy wpisana\n",
        "    #if e[0] != e[1]:  # Unikamy dodania pętli dwa razy\n",
        "        #G[e[1]].append((e[0], e[2]))\n",
        "    G[e[1]].append((e[0],e[2]))\n",
        "  return G\n",
        "\n",
        "E = [(0, 1, -5), (3, 1, 10), (2, 3, 7), (1, 2, -3), (2, 4, 0), (3, 1, -2), (0, 1, 2), (0, 0, -10)]\n",
        "G = weighted_undirected_graph_list(E, 5)\n",
        "print(*G, sep='\\n')"
      ],
      "metadata": {
        "colab": {
          "base_uri": "https://localhost:8080/"
        },
        "id": "yPHFqwHtNQu9",
        "outputId": "353b9171-f3c9-4869-c882-98973cbf463f"
      },
      "execution_count": 28,
      "outputs": [
        {
          "output_type": "stream",
          "name": "stdout",
          "text": [
            "[(1, -5), (1, 2), (0, -10), (0, -10)]\n",
            "[(0, -5), (3, 10), (2, -3), (3, -2), (0, 2)]\n",
            "[(3, 7), (1, -3), (4, 0)]\n",
            "[(1, 10), (2, 7), (1, -2)]\n",
            "[(2, 0)]\n"
          ]
        }
      ]
    },
    {
      "cell_type": "markdown",
      "source": [
        "### Implementacja 4\n",
        "#### Dla grafów skierowanych ważonych o krawędziach wielokrotnych (dopuszczalne pętle)\n"
      ],
      "metadata": {
        "id": "ij34Q3gLNI1Z"
      }
    },
    {
      "cell_type": "code",
      "source": [
        "def weighted_directed_graph_list(E,n):\n",
        "  G = [[] for _ in range(n)]\n",
        "  for e in E:\n",
        "    G[e[0]].append((e[1],e[2]))\n",
        "  return G\n",
        "\n",
        "E = [(0, 1, -5), (3, 1, 10), (2, 3, 7), (1, 2, -3), (2, 4, 0), (3, 1, -2), (0, 1, 2), (0, 0, -10)]\n",
        "G = weighted_directed_graph_list(E, 5)\n",
        "print(*G, sep='\\n')"
      ],
      "metadata": {
        "colab": {
          "base_uri": "https://localhost:8080/"
        },
        "id": "VLRIJEvHOOKb",
        "outputId": "ea033ac4-c8b4-4e66-d27b-cdc66d69cb79"
      },
      "execution_count": 27,
      "outputs": [
        {
          "output_type": "stream",
          "name": "stdout",
          "text": [
            "[(1, -5), (1, 2), (0, -10)]\n",
            "[(2, -3)]\n",
            "[(3, 7), (4, 0)]\n",
            "[(1, 10), (1, -2)]\n",
            "[]\n"
          ]
        }
      ]
    },
    {
      "cell_type": "markdown",
      "source": [
        "# Trawersacja grafów"
      ],
      "metadata": {
        "id": "IleJ2vFqDeKP"
      }
    },
    {
      "cell_type": "markdown",
      "source": [
        "## Trawersacja wgłąb - DFS (Depth First Search)"
      ],
      "metadata": {
        "id": "OeVXZjZ0Dg6m"
      }
    },
    {
      "cell_type": "markdown",
      "source": [
        "Jak sama nazwa mówi, jest to algorytm przeszukiwania wgłąb (zawsze idzie najdalej, jak to możliwe i dopiero później cofa się do wcześniejszych wierzchołków, by znowu dojść do końca inną ścieżką). Idzie on w sposób losowy, więc jeżeli zaczyna się cofać, nie oznacza to, że znalazł on najdłuższą ścieżkę, a jedynie to, że wszedł \"w ślepą uliczkę\" - dotarł do wierzchołka wcześniej odwiedzonego lub takiego, który nie ma sąsiadów (poza wierzchołkiem, z którego przyszliśmy).\n",
        "\n",
        "Zasada działania DFS jest następująca:\n",
        "\n",
        "Zaznaczamy bieżący wierzchołek jako odwiedzony. Przechodzimy do kolejnych sąsiadów wierzchołka bieżącego i wykonujemy dla nich tą samą operację (tzn. zaznaczamy je jako odwiedzone i przechodzimy do ich sąsiadów). Przechodzenie kończymy, gdy zostaną w ten sposób odwiedzone wszystkie dostępne wierzchołki."
      ],
      "metadata": {
        "id": "-Bw4w3eYQHmj"
      }
    },
    {
      "cell_type": "markdown",
      "source": [
        "### **Implementaje rekurencyjne**"
      ],
      "metadata": {
        "id": "6T1XQHZlQRNh"
      }
    },
    {
      "cell_type": "markdown",
      "source": [
        "### Implementacja 1\n",
        "#### Dla grafu nieskierowanego nieważonego, przy pomocy listy sąsiedztwa"
      ],
      "metadata": {
        "id": "fHzwt_NFTi9v"
      }
    },
    {
      "cell_type": "code",
      "source": [
        "def dfs(G):\n",
        "  '''G - graf jako lista sąsiedztwa'''\n",
        "  n = len(G)\n",
        "  visited = [False] * n\n",
        "\n",
        "  def rec(i):\n",
        "    if visited[i]: return\n",
        "    visited[i] = True\n",
        "    print(i)\n",
        "    for v in G[i]:\n",
        "      rec(v)\n",
        "\n",
        "  for i in range(n):\n",
        "    rec(i)\n",
        "\n",
        "E = [(0, 1), (0, 2), (1, 4), (4, 3), (2, 3), (4, 5), (2, 5), (5, 6), (6, 7)]\n",
        "\n",
        "G = undirected_graph_list(E, 8)\n",
        "print(*G, sep='\\n')\n",
        "dfs(G)"
      ],
      "metadata": {
        "colab": {
          "base_uri": "https://localhost:8080/"
        },
        "id": "6WRdMur5DS3z",
        "outputId": "42a1408c-c2ad-44a6-d52b-fa7277ec8deb"
      },
      "execution_count": 31,
      "outputs": [
        {
          "output_type": "stream",
          "name": "stdout",
          "text": [
            "[1, 2]\n",
            "[0, 4]\n",
            "[0, 3, 5]\n",
            "[4, 2]\n",
            "[1, 3, 5]\n",
            "[4, 2, 6]\n",
            "[5, 7]\n",
            "[6]\n",
            "0\n",
            "1\n",
            "4\n",
            "3\n",
            "2\n",
            "5\n",
            "6\n",
            "7\n"
          ]
        }
      ]
    },
    {
      "cell_type": "markdown",
      "source": [
        "### Implementacja 2\n",
        "#### Dla grafu nieskierowanego nieważonego, przy pomocy macierzy sąsiedztwa"
      ],
      "metadata": {
        "id": "3h-2tc9iVp-0"
      }
    },
    {
      "cell_type": "code",
      "source": [
        "def dfs(G):\n",
        "  '''G - graf jako macierz sąsiedztwa'''\n",
        "  n = len(G)\n",
        "  visited = [False] * n\n",
        "\n",
        "  def rec(i):\n",
        "    if visited[i]: return\n",
        "    visited[i] = True\n",
        "    print(i)\n",
        "    for v in range(n):\n",
        "      if G[i][v]:\n",
        "        rec(v)\n",
        "\n",
        "  for i in range(n):\n",
        "    rec(i)\n",
        "\n",
        "E = [(0, 1), (0, 2), (1, 4), (4, 3), (2, 3), (4, 5), (2, 5), (5, 6), (6, 7)]\n",
        "\n",
        "G = undirected_graph_matrix(E, 8)\n",
        "print(*G, sep='\\n')\n",
        "dfs(G)"
      ],
      "metadata": {
        "colab": {
          "base_uri": "https://localhost:8080/"
        },
        "id": "u_jkN8RIVo8l",
        "outputId": "ee7eb8b6-93bc-4cfc-d6dc-0fcce55a88d6"
      },
      "execution_count": 34,
      "outputs": [
        {
          "output_type": "stream",
          "name": "stdout",
          "text": [
            "[0, 1, 1, 0, 0, 0, 0, 0]\n",
            "[1, 0, 0, 0, 1, 0, 0, 0]\n",
            "[1, 0, 0, 1, 0, 1, 0, 0]\n",
            "[0, 0, 1, 0, 1, 0, 0, 0]\n",
            "[0, 1, 0, 1, 0, 1, 0, 0]\n",
            "[0, 0, 1, 0, 1, 0, 1, 0]\n",
            "[0, 0, 0, 0, 0, 1, 0, 1]\n",
            "[0, 0, 0, 0, 0, 0, 1, 0]\n",
            "0\n",
            "1\n",
            "4\n",
            "3\n",
            "2\n",
            "5\n",
            "6\n",
            "7\n"
          ]
        }
      ]
    },
    {
      "cell_type": "markdown",
      "source": [
        "### **Implementacje iteracyjne**"
      ],
      "metadata": {
        "id": "yCOJc1jqXzuU"
      }
    },
    {
      "cell_type": "markdown",
      "source": [
        "### Implementacja 1\n",
        "#### Dla grafu nieskierowanego nieważonego, przy pomocy listy sąsiedztwa"
      ],
      "metadata": {
        "id": "dYmFXIedX8H2"
      }
    },
    {
      "cell_type": "code",
      "source": [
        "def dfs(G):\n",
        "  '''G - graf jako lista sąsiedztwa'''\n",
        "  n = len(G)\n",
        "  visited = [False] * n\n",
        "  stack = []\n",
        "\n",
        "  for i in range(n):\n",
        "    if visited[i]: continue\n",
        "    visited[i] = True\n",
        "    stack.append(i)\n",
        "    while stack:\n",
        "      v = stack.pop()\n",
        "      print(v)\n",
        "      for u in G[v]:\n",
        "        if not visited[u]:\n",
        "          visited[u] = True\n",
        "          stack.append(u)\n",
        "\n",
        "E = [(0, 1), (0, 2), (1, 4), (4, 3), (2, 3), (4, 5), (2, 5), (5, 6), (6, 7)]\n",
        "\n",
        "G = undirected_graph_list(E, 8)\n",
        "print(*G, sep='\\n')\n",
        "dfs(G)"
      ],
      "metadata": {
        "colab": {
          "base_uri": "https://localhost:8080/"
        },
        "id": "lTMY-vHYX9qa",
        "outputId": "39592805-1775-478e-ba76-b1f67d465373"
      },
      "execution_count": 35,
      "outputs": [
        {
          "output_type": "stream",
          "name": "stdout",
          "text": [
            "[1, 2]\n",
            "[0, 4]\n",
            "[0, 3, 5]\n",
            "[4, 2]\n",
            "[1, 3, 5]\n",
            "[4, 2, 6]\n",
            "[5, 7]\n",
            "[6]\n",
            "0\n",
            "2\n",
            "5\n",
            "6\n",
            "7\n",
            "4\n",
            "3\n",
            "1\n"
          ]
        }
      ]
    },
    {
      "cell_type": "markdown",
      "source": [
        "### Implementacja 2\n",
        "#### Dla grafu nieskierowanego nieważonego, przy pomocy macierzy sąsiedztwa"
      ],
      "metadata": {
        "id": "jgB5a8daX8H2"
      }
    },
    {
      "cell_type": "code",
      "source": [
        "def dfs(G):\n",
        "  '''G - graf jako macierz sąsiedztwa'''\n",
        "  n = len(G)\n",
        "  visited = [False] * n\n",
        "  stack = []\n",
        "\n",
        "  for i in range(n):\n",
        "    if visited[i]: continue\n",
        "    visited[i] = True\n",
        "    stack.append(i)\n",
        "    while stack:\n",
        "      v = stack.pop()\n",
        "      print(v)\n",
        "      for u in range(n):\n",
        "        if G[v][u] and not visited[u]:\n",
        "            visited[u] = True\n",
        "            stack.append(u)\n",
        "\n",
        "\n",
        "E = [(0, 1), (0, 2), (1, 4), (4, 3), (2, 3), (4, 5), (2, 5), (5, 6), (6, 7)]\n",
        "\n",
        "G = undirected_graph_matrix(E, 8)\n",
        "print(*G, sep='\\n')\n",
        "dfs(G)"
      ],
      "metadata": {
        "colab": {
          "base_uri": "https://localhost:8080/"
        },
        "id": "IQ7EajWHX-Pq",
        "outputId": "1199c80b-8569-4bac-a753-09ee7bb21030"
      },
      "execution_count": 37,
      "outputs": [
        {
          "output_type": "stream",
          "name": "stdout",
          "text": [
            "[0, 1, 1, 0, 0, 0, 0, 0]\n",
            "[1, 0, 0, 0, 1, 0, 0, 0]\n",
            "[1, 0, 0, 1, 0, 1, 0, 0]\n",
            "[0, 0, 1, 0, 1, 0, 0, 0]\n",
            "[0, 1, 0, 1, 0, 1, 0, 0]\n",
            "[0, 0, 1, 0, 1, 0, 1, 0]\n",
            "[0, 0, 0, 0, 0, 1, 0, 1]\n",
            "[0, 0, 0, 0, 0, 0, 1, 0]\n",
            "0\n",
            "2\n",
            "5\n",
            "6\n",
            "7\n",
            "4\n",
            "3\n",
            "1\n"
          ]
        }
      ]
    },
    {
      "cell_type": "markdown",
      "source": [
        "## Trawersacja wszerz - BFS (Breadth First Search)"
      ],
      "metadata": {
        "id": "C4j8Zh7DaOSH"
      }
    },
    {
      "cell_type": "markdown",
      "source": [
        "Zaczynamy odwiedzanie od wierzchołka startowego. Następnie odwiedzamy wszystkich jego sąsiadów. Dalej odwiedzamy wszystkich nieodwiedzonych jeszcze sąsiadów sąsiadów. Itd."
      ],
      "metadata": {
        "id": "_YobiQ-mahJv"
      }
    },
    {
      "cell_type": "markdown",
      "source": [
        "### Implementacja 1\n",
        "#### Dla grafu nieskierowanego nieważonego, przy pomocy listy sąsiedztwa"
      ],
      "metadata": {
        "id": "xo7OlzQRbWjj"
      }
    },
    {
      "cell_type": "code",
      "source": [
        "from queue import Queue\n",
        "\n",
        "def bfs(G):\n",
        "  '''G - graf jako lista sąsiedztwa'''\n",
        "  n = len(G)\n",
        "  visited = [False] * n\n",
        "  queue = Queue()\n",
        "\n",
        "  for i in range(n):\n",
        "    if visited[i]: continue\n",
        "    queue.put(i)\n",
        "    visited[i] = True\n",
        "    while not queue.empty():\n",
        "      v = queue.get()\n",
        "      print(v)\n",
        "      for u in G[v]:\n",
        "        if not visited[u]:\n",
        "          visited[u] = True\n",
        "          queue.put(u)\n",
        "\n",
        "E = [(0, 1), (0, 2), (1, 4), (4, 3), (2, 3), (4, 5), (2, 5), (5, 6), (6, 7)]\n",
        "\n",
        "G = undirected_graph_list(E, 8)\n",
        "print(*G, sep='\\n')\n",
        "bfs(G)"
      ],
      "metadata": {
        "colab": {
          "base_uri": "https://localhost:8080/"
        },
        "id": "-uJH7oGhbXMP",
        "outputId": "e2a95422-364e-4325-f874-fbfb96de14d8"
      },
      "execution_count": 38,
      "outputs": [
        {
          "output_type": "stream",
          "name": "stdout",
          "text": [
            "[1, 2]\n",
            "[0, 4]\n",
            "[0, 3, 5]\n",
            "[4, 2]\n",
            "[1, 3, 5]\n",
            "[4, 2, 6]\n",
            "[5, 7]\n",
            "[6]\n",
            "0\n",
            "1\n",
            "2\n",
            "4\n",
            "3\n",
            "5\n",
            "6\n",
            "7\n"
          ]
        }
      ]
    },
    {
      "cell_type": "markdown",
      "source": [
        "### Implementacja 2\n",
        "#### Dla grafu nieskierowanego nieważonego, przy pomocy macierzy sąsiedztwa"
      ],
      "metadata": {
        "id": "eNJwdurDbWjk"
      }
    },
    {
      "cell_type": "code",
      "source": [
        "from queue import Queue\n",
        "\n",
        "def bfs(G):\n",
        "  '''G - graf macierz sąsiedztwa'''\n",
        "  n = len(G)\n",
        "  visited = [False] * n\n",
        "  queue = Queue()\n",
        "\n",
        "  for i in range(n):\n",
        "    if visited[i]: continue\n",
        "    queue.put(i)\n",
        "    visited[i] = True\n",
        "    while not queue.empty():\n",
        "      v = queue.get()\n",
        "      print(v)\n",
        "      for u in range(n):\n",
        "        if G[v][u] and not visited[u]:\n",
        "          visited[u] = True\n",
        "          queue.put(u)\n",
        "\n",
        "E = [(0, 1), (0, 2), (1, 4), (4, 3), (2, 3), (4, 5), (2, 5), (5, 6), (6, 7)]\n",
        "\n",
        "G = undirected_graph_matrix(E, 8)\n",
        "print(*G, sep='\\n')\n",
        "bfs(G)"
      ],
      "metadata": {
        "colab": {
          "base_uri": "https://localhost:8080/"
        },
        "id": "5YH10QICahpw",
        "outputId": "8a8430d4-7a6d-49f0-af20-3ee9811d9467"
      },
      "execution_count": 39,
      "outputs": [
        {
          "output_type": "stream",
          "name": "stdout",
          "text": [
            "[0, 1, 1, 0, 0, 0, 0, 0]\n",
            "[1, 0, 0, 0, 1, 0, 0, 0]\n",
            "[1, 0, 0, 1, 0, 1, 0, 0]\n",
            "[0, 0, 1, 0, 1, 0, 0, 0]\n",
            "[0, 1, 0, 1, 0, 1, 0, 0]\n",
            "[0, 0, 1, 0, 1, 0, 1, 0]\n",
            "[0, 0, 0, 0, 0, 1, 0, 1]\n",
            "[0, 0, 0, 0, 0, 0, 1, 0]\n",
            "0\n",
            "1\n",
            "2\n",
            "4\n",
            "3\n",
            "5\n",
            "6\n",
            "7\n"
          ]
        }
      ]
    }
  ]
}