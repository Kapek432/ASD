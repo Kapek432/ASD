{
  "nbformat": 4,
  "nbformat_minor": 0,
  "metadata": {
    "colab": {
      "provenance": [],
      "collapsed_sections": [
        "B1hBeLjycN9K",
        "VM2aNK9jQlG8",
        "C7wRzc03T3-3",
        "UEU55I36Z_Bc",
        "c8OwJSkrb_07",
        "Ih9LoO98bFEh",
        "AK7UcyUWbFEi",
        "up-0nLsRcis7",
        "yVqzwiD6cis8",
        "7_FrTlufcis-",
        "hEN1DXTKBDc3",
        "BI_vxsEpm8YG",
        "jMpW8Zf9m8YG",
        "EuxrKR2nm8YH",
        "wOfonvZdyEOt",
        "z3YL3FsTyEOt",
        "HtWAwYnZyEOu",
        "BdwOrO8Q_anm",
        "3uJii0Rg3b_5",
        "dlBJtIHXwvlH",
        "DP8MS2grwvlI",
        "KvwgOEuKwvlI",
        "eqR8Q25x71_y",
        "IsB7o18Uv52R",
        "MpRJ-7H_LO8q"
      ],
      "toc_visible": true
    },
    "kernelspec": {
      "name": "python3",
      "display_name": "Python 3"
    },
    "language_info": {
      "name": "python"
    }
  },
  "cells": [
    {
      "cell_type": "markdown",
      "source": [
        "[Źródło](https://github.com/MatiPl01/Algorytmy-i-struktury-danych/blob/fe3625438c7b65f62c0d04abb12a456f22beac79/Przydatne%20algorytmy/Moje%20opracowania)"
      ],
      "metadata": {
        "id": "wMBGGwRD-_04"
      }
    },
    {
      "cell_type": "markdown",
      "source": [
        "# Funkcje pomocnicze"
      ],
      "metadata": {
        "id": "bj4-kWWCWAdf"
      }
    },
    {
      "cell_type": "markdown",
      "source": [
        "Funkcja tworząca przykładowe dane do testowania algorytmów sortowania"
      ],
      "metadata": {
        "id": "1gGs81fIWFT4"
      }
    },
    {
      "cell_type": "code",
      "source": [
        "import random\n",
        "\n",
        "def generate_data(size=10, data_type='random', min_value=0, max_value=100):\n",
        "  if data_type == 'random':\n",
        "    return [random.randint(min_value,max_value) for _ in range(size)]\n",
        "  elif data_type == 'random_float':\n",
        "        return [round(random.uniform(min_value, max_value),2) for _ in range(size)]\n",
        "  elif data_type == 'sorted':\n",
        "    return list(range(min_value,min_value + size))\n",
        "  elif data_type == 'reversed':\n",
        "    return list(range(min_value + size - 1,min_value - 1, -1))\n",
        "  else:\n",
        "    raise ValueError(\"Nieznany typ danych. Wybierz spośród: 'random', 'sorted', 'reversed'\")"
      ],
      "metadata": {
        "id": "pmJKHAlRWPgP"
      },
      "execution_count": null,
      "outputs": []
    },
    {
      "cell_type": "code",
      "source": [
        "print(generate_data(data_type='random'))\n",
        "print(generate_data(data_type='random_float'))\n",
        "print(generate_data(data_type='sorted'))\n",
        "print(generate_data(data_type='reversed'))\n"
      ],
      "metadata": {
        "colab": {
          "base_uri": "https://localhost:8080/"
        },
        "id": "bbnpiydPYBbG",
        "outputId": "6a198a70-b971-4d58-f6ce-c4e0f7124a56"
      },
      "execution_count": null,
      "outputs": [
        {
          "output_type": "stream",
          "name": "stdout",
          "text": [
            "[84, 32, 100, 47, 5, 14, 86, 11, 4, 53]\n",
            "[62.29, 4.49, 51.6, 42.85, 54.76, 23.37, 93.31, 83.52, 73.57, 0.57]\n",
            "[0, 1, 2, 3, 4, 5, 6, 7, 8, 9]\n",
            "[9, 8, 7, 6, 5, 4, 3, 2, 1, 0]\n"
          ]
        }
      ]
    },
    {
      "cell_type": "markdown",
      "source": [
        "# Algorytmy o złożoności $ O(n^2) $\n",
        "\n",
        "Algorytmy, których czas działania rośnie kwadratowo wraz ze wzrostem danych wejściowych n. Najczęściej wolne, ale bardzo łatwe w implementacji."
      ],
      "metadata": {
        "id": "5AJwE7dDPjsu"
      }
    },
    {
      "cell_type": "markdown",
      "source": [
        "## **Bubble Sort (Sortowanie bąbelkowe)**\n",
        "\n"
      ],
      "metadata": {
        "id": "QrZ4jpEESy9j"
      }
    },
    {
      "cell_type": "markdown",
      "source": [
        "### Działanie\n"
      ],
      "metadata": {
        "id": "B1hBeLjycN9K"
      }
    },
    {
      "cell_type": "markdown",
      "source": [
        "Jeden z najprostzych algorytmów sortowania. Polega na wielokrotnym przechodzeniu przez tablicę i zamienianiu miejscami sąsiadujących elementów, jeśli są w złej kolejności."
      ],
      "metadata": {
        "id": "kocJP9DccQMy"
      }
    },
    {
      "cell_type": "markdown",
      "source": [
        "### Złożoność czasowa\n"
      ],
      "metadata": {
        "id": "VM2aNK9jQlG8"
      }
    },
    {
      "cell_type": "markdown",
      "source": [
        "#### Najlepszy przypadek\n",
        "$ O(n^2) $"
      ],
      "metadata": {
        "id": "U5qHKOgzTt66"
      }
    },
    {
      "cell_type": "markdown",
      "source": [
        "#### Najgorszy przypadek\n",
        "\n",
        "$ O(n^2) $"
      ],
      "metadata": {
        "id": "teQMefoyTxrb"
      }
    },
    {
      "cell_type": "markdown",
      "source": [
        "### Złożoność pamięciowa\n"
      ],
      "metadata": {
        "id": "C7wRzc03T3-3"
      }
    },
    {
      "cell_type": "markdown",
      "source": [
        "#### Najlepszy przypadek\n",
        "\n",
        "$ O(1) $\n"
      ],
      "metadata": {
        "id": "ZTWHZqEcT3-3"
      }
    },
    {
      "cell_type": "markdown",
      "source": [
        "#### Najgorszy przypadek\n",
        "$ O(1) $"
      ],
      "metadata": {
        "id": "gcQwIyy8T3-4"
      }
    },
    {
      "cell_type": "markdown",
      "source": [
        "### Sortowanie w miejscu? - Tak"
      ],
      "metadata": {
        "id": "PrkEAGCWdFbI"
      }
    },
    {
      "cell_type": "markdown",
      "source": [
        "### Implementacja"
      ],
      "metadata": {
        "id": "QxtMRTI7T-76"
      }
    },
    {
      "cell_type": "code",
      "execution_count": null,
      "metadata": {
        "id": "s42yADMdPL1B"
      },
      "outputs": [],
      "source": [
        "def BubbleSort(arr):\n",
        "  for i in range(len(arr)-1):\n",
        "    for j in range(len(arr)-1-i):\n",
        "      if arr[j] > arr[j+1]:\n",
        "        arr [j], arr[j+1] = arr[j+1], arr[j]"
      ]
    },
    {
      "cell_type": "code",
      "source": [
        "arr = generate_data(data_type='random')\n",
        "print(arr)\n",
        "BubbleSort(arr)\n",
        "print(arr)"
      ],
      "metadata": {
        "colab": {
          "base_uri": "https://localhost:8080/"
        },
        "id": "-I5jY_nvUDnp",
        "outputId": "c7b3f751-3d32-4173-97e3-4f6b56da5287"
      },
      "execution_count": null,
      "outputs": [
        {
          "output_type": "stream",
          "name": "stdout",
          "text": [
            "[39, 92, 8, 53, 83, 54, 37, 99, 58, 12]\n",
            "[8, 12, 37, 39, 53, 54, 58, 83, 92, 99]\n"
          ]
        }
      ]
    },
    {
      "cell_type": "markdown",
      "source": [
        "### Optymalizacja - zatrzymywanie algorytmu\n"
      ],
      "metadata": {
        "id": "MDRtc87aUDvR"
      }
    },
    {
      "cell_type": "markdown",
      "source": [
        "Bubble Sort można przyspieszyć, dodając mechanizm sprawdzania, czy w danej iteracji doszło do zamiany elementów. Jeśli nie było żadnej zamiany, oznacza to, że tablica jest już posortowana i można zakończyć działanie wcześniej, zamiast wykonywać niepotrzebne iteracje. Wtedy w najlepszym przypadku uzyskamy złożoność $ O(n) $."
      ],
      "metadata": {
        "id": "TuT1bEIHUV8B"
      }
    },
    {
      "cell_type": "code",
      "source": [
        "def BubbleSortOptimized(arr):\n",
        "  for i in range(len(arr)-1):\n",
        "    swapped = False\n",
        "    for j in range(len(arr)-1-i):\n",
        "      if arr[j] > arr[j+1]:\n",
        "        arr[j], arr[j+1] = arr[j+1], arr[j]\n",
        "        swapped = True\n",
        "    if not swapped:\n",
        "      break"
      ],
      "metadata": {
        "id": "qxADDHxWUVPI"
      },
      "execution_count": null,
      "outputs": []
    },
    {
      "cell_type": "code",
      "source": [
        "arr = generate_data(data_type='random')\n",
        "print(arr)\n",
        "BubbleSortOptimized(arr)\n",
        "print(arr)"
      ],
      "metadata": {
        "colab": {
          "base_uri": "https://localhost:8080/"
        },
        "id": "MkODJ-4hUcaL",
        "outputId": "255ada68-4854-41bc-ac2d-f45d7ee5838b"
      },
      "execution_count": null,
      "outputs": [
        {
          "output_type": "stream",
          "name": "stdout",
          "text": [
            "[95, 77, 40, 30, 62, 38, 62, 89, 48, 96]\n",
            "[30, 38, 40, 48, 62, 62, 77, 89, 95, 96]\n"
          ]
        }
      ]
    },
    {
      "cell_type": "markdown",
      "source": [
        "## **Selection Sort (Sortowanie przez wybór)**\n"
      ],
      "metadata": {
        "id": "UEU55I36Z_Bc"
      }
    },
    {
      "cell_type": "markdown",
      "source": [
        "### Działanie\n"
      ],
      "metadata": {
        "id": "c8OwJSkrb_07"
      }
    },
    {
      "cell_type": "markdown",
      "source": [
        "\n",
        "1. Najpierw znajdujemy najmniejszy element i zamieniamy go z pierwszym elementem. W ten sposób najmniejszy element trafia na swoją właściwą pozycję.\n",
        "2. Następnie znajdujemy najmniejszy spośród pozostałych elementów (czyli drugi najmniejszy) i zamieniamy go z drugim elementem.\n",
        "3. Powtarzamy ten proces, aż wszystkie elementy zostaną przeniesione na właściwe miejsca."
      ],
      "metadata": {
        "id": "SfXbZI9ccJyj"
      }
    },
    {
      "cell_type": "markdown",
      "source": [
        "### Złożoność czasowa\n"
      ],
      "metadata": {
        "id": "Ih9LoO98bFEh"
      }
    },
    {
      "cell_type": "markdown",
      "source": [
        "#### Najlepszy przypadek\n",
        "$ O(n^2) $"
      ],
      "metadata": {
        "id": "sNXD112HbFEh"
      }
    },
    {
      "cell_type": "markdown",
      "source": [
        "#### Najgorszy przypadek\n",
        "\n",
        "$ O(n^2) $"
      ],
      "metadata": {
        "id": "7bHM86EfbFEi"
      }
    },
    {
      "cell_type": "markdown",
      "source": [
        "### Złożoność pamięciowa\n"
      ],
      "metadata": {
        "id": "AK7UcyUWbFEi"
      }
    },
    {
      "cell_type": "markdown",
      "source": [
        "#### Najlepszy przypadek\n",
        "\n",
        "$ O(1) $\n"
      ],
      "metadata": {
        "id": "1hQEFMz-bFEi"
      }
    },
    {
      "cell_type": "markdown",
      "source": [
        "#### Najgorszy przypadek\n",
        "$ O(1) $"
      ],
      "metadata": {
        "id": "L7yWx9PQbFEi"
      }
    },
    {
      "cell_type": "markdown",
      "source": [
        "### Sortowanie w miejscu? - Tak"
      ],
      "metadata": {
        "id": "k1MptGA3c-HK"
      }
    },
    {
      "cell_type": "markdown",
      "source": [
        "### Implementacja"
      ],
      "metadata": {
        "id": "1_FXiOlMbLOz"
      }
    },
    {
      "cell_type": "code",
      "source": [
        "def SelectionSort(arr):\n",
        "  for i in range(len(arr)-1):\n",
        "    min_index = i\n",
        "    for j in range(i+1, len(arr)):\n",
        "      if arr[j] < arr[min_index]:\n",
        "        min_index = j\n",
        "      arr[i], arr[min_index] = arr[min_index], arr[i]"
      ],
      "metadata": {
        "id": "Ng17zXrRbJpj"
      },
      "execution_count": null,
      "outputs": []
    },
    {
      "cell_type": "code",
      "source": [
        "arr = generate_data(data_type='random')\n",
        "print(arr)\n",
        "SelectionSort(arr)\n",
        "print(arr)"
      ],
      "metadata": {
        "colab": {
          "base_uri": "https://localhost:8080/"
        },
        "id": "eo007TT_bwz7",
        "outputId": "43b50ba4-f4c9-4daa-dd93-ddc2b918766d"
      },
      "execution_count": null,
      "outputs": [
        {
          "output_type": "stream",
          "name": "stdout",
          "text": [
            "[78, 62, 99, 31, 39, 11, 15, 13, 74, 50]\n",
            "[11, 13, 15, 39, 31, 50, 74, 62, 78, 99]\n"
          ]
        }
      ]
    },
    {
      "cell_type": "markdown",
      "source": [
        "## **Insertion Sort (Sortowanie przez wstawianie)**\n"
      ],
      "metadata": {
        "id": "a8szZqbYcis6"
      }
    },
    {
      "cell_type": "markdown",
      "source": [
        "### Działanie\n"
      ],
      "metadata": {
        "id": "up-0nLsRcis7"
      }
    },
    {
      "cell_type": "markdown",
      "source": [
        "1. Zaczynamy od drugiego elementu tablicy, ponieważ zakładamy, że pierwszy element jest już posortowany.\n",
        "2. Porównujemy drugi element z pierwszym i sprawdzamy, czy jest mniejszy – jeśli tak, zamieniamy je miejscami.\n",
        "3. Przechodzimy do trzeciego elementu, porównujemy go z pierwszymi dwoma i umieszczamy na właściwej pozycji.\n",
        "4. Powtarzamy ten proces, aż cała tablica zostanie posortowana."
      ],
      "metadata": {
        "id": "wOjugjxecis8"
      }
    },
    {
      "cell_type": "markdown",
      "source": [
        "### Złożoność czasowa\n"
      ],
      "metadata": {
        "id": "yVqzwiD6cis8"
      }
    },
    {
      "cell_type": "markdown",
      "source": [
        "#### Najlepszy przypadek\n",
        "$ O(n) $"
      ],
      "metadata": {
        "id": "85L45skkcis8"
      }
    },
    {
      "cell_type": "markdown",
      "source": [
        "#### Najgorszy przypadek\n",
        "\n",
        "$ O(n^2) $"
      ],
      "metadata": {
        "id": "vP5ECpsacis9"
      }
    },
    {
      "cell_type": "markdown",
      "source": [
        "### Złożoność pamięciowa\n"
      ],
      "metadata": {
        "id": "7_FrTlufcis-"
      }
    },
    {
      "cell_type": "markdown",
      "source": [
        "#### Najlepszy przypadek\n",
        "\n",
        "$ O(1) $\n"
      ],
      "metadata": {
        "id": "KrDwA5K3cis-"
      }
    },
    {
      "cell_type": "markdown",
      "source": [
        "#### Najgorszy przypadek\n",
        "$ O(1) $"
      ],
      "metadata": {
        "id": "-C9xcHWwcis_"
      }
    },
    {
      "cell_type": "markdown",
      "source": [
        "### Sortowanie w miejscu? - Tak"
      ],
      "metadata": {
        "id": "KdyEp3Vac1bR"
      }
    },
    {
      "cell_type": "markdown",
      "source": [
        "### Implementacja"
      ],
      "metadata": {
        "id": "recp7xPOcis_"
      }
    },
    {
      "cell_type": "code",
      "source": [
        "def InsertionSort(arr):\n",
        "  for i in range(1, len(arr)):\n",
        "    key = arr[i]\n",
        "    prev = i-1\n",
        "    while prev >= 0 and arr[prev] > key:\n",
        "      arr[prev+1] =arr[prev]\n",
        "      prev -= 1\n",
        "    arr[prev+1] = key"
      ],
      "metadata": {
        "id": "Sowev_qjcitA"
      },
      "execution_count": null,
      "outputs": []
    },
    {
      "cell_type": "code",
      "source": [
        "arr = generate_data(data_type='random')\n",
        "print(arr)\n",
        "InsertionSort(arr)\n",
        "print(arr)"
      ],
      "metadata": {
        "colab": {
          "base_uri": "https://localhost:8080/"
        },
        "outputId": "9f80ea80-85d8-411b-e506-2d2155a964fd",
        "id": "yRcWF8CccitA"
      },
      "execution_count": null,
      "outputs": [
        {
          "output_type": "stream",
          "name": "stdout",
          "text": [
            "[15, 15, 78, 78, 41, 6, 94, 22, 29, 28]\n",
            "[6, 15, 15, 22, 28, 29, 41, 78, 78, 94]\n"
          ]
        }
      ]
    },
    {
      "cell_type": "markdown",
      "source": [
        "## **Cycle Sort (Sortowanie cykliczne)**"
      ],
      "metadata": {
        "id": "hEN1DXTKBDc3"
      }
    },
    {
      "cell_type": "markdown",
      "source": [
        "Cyklowe sortowanie (Cycle Sort) to niestabilny algorytm sortowania działający w miejscu, który jest szczególnie przydatny do sortowania tablic zawierających elementy z niewielkiego zakresu wartości.\n",
        "\n",
        "Podstawowa idea cyklowego sortowania polega na podziale tablicy wejściowej na cykle, gdzie każdy cykl składa się z elementów, które powinny znaleźć się na tych samych pozycjach w posortowanej tablicy. Algorytm wykonuje serię zamian, aby umieścić każdy element we właściwej pozycji w ramach jego cyklu, aż do momentu, gdy wszystkie cykle zostaną zakończone, a tablica będzie posortowana."
      ],
      "metadata": {
        "id": "2M_ZjdrBnXAa"
      }
    },
    {
      "cell_type": "markdown",
      "source": [
        "### Działanie\n"
      ],
      "metadata": {
        "id": "BI_vxsEpm8YG"
      }
    },
    {
      "cell_type": "markdown",
      "source": [
        "1. Rozpocznij od nieposortowanej tablicy zawierającej **n** elementów.  \n",
        "2. Zainicjalizuj zmienną **cycleStart** na **0**.  \n",
        "3. Dla każdego elementu w tablicy porównaj go z każdym innym elementem znajdującym się na prawo od niego. Jeśli znajdziesz elementy mniejsze od bieżącego, zwiększ wartość **cycleStart**.  \n",
        "4. Jeśli po porównaniu pierwszego elementu ze wszystkimi innymi **cycleStart** nadal wynosi **0**, przejdź do następnego elementu i powtórz krok 3.  \n",
        "5. Gdy znajdziesz mniejszy element, zamień bieżący element z pierwszym elementem w jego cyklu. Następnie kontynuuj cykl, aż bieżący element powróci na swoją pierwotną pozycję.  \n",
        "6. Powtarzaj kroki 3-5, dopóki wszystkie cykle nie zostaną zakończone.\n",
        "\n",
        "[Szczegółowy opis](https://www.geeksforgeeks.org/cycle-sort/)"
      ],
      "metadata": {
        "id": "uEfK3iBcm8YG"
      }
    },
    {
      "cell_type": "markdown",
      "source": [
        "### Złożoność czasowa\n"
      ],
      "metadata": {
        "id": "jMpW8Zf9m8YG"
      }
    },
    {
      "cell_type": "markdown",
      "source": [
        "#### Najlepszy przypadek\n",
        "$ O(n^2) $"
      ],
      "metadata": {
        "id": "qy1rKhgEm8YH"
      }
    },
    {
      "cell_type": "markdown",
      "source": [
        "#### Najgorszy przypadek\n",
        "\n",
        "$ O(n^2) $"
      ],
      "metadata": {
        "id": "hsTzZLGxm8YH"
      }
    },
    {
      "cell_type": "markdown",
      "source": [
        "### Złożoność pamięciowa\n"
      ],
      "metadata": {
        "id": "EuxrKR2nm8YH"
      }
    },
    {
      "cell_type": "markdown",
      "source": [
        "#### Najlepszy przypadek\n",
        "\n",
        "$ O(1) $\n"
      ],
      "metadata": {
        "id": "3xUOU3nQm8YH"
      }
    },
    {
      "cell_type": "markdown",
      "source": [
        "#### Najgorszy przypadek\n",
        "$ O(1) $"
      ],
      "metadata": {
        "id": "OmW44Goym8YH"
      }
    },
    {
      "cell_type": "markdown",
      "source": [
        "### Sortowanie w miejscu? - Tak"
      ],
      "metadata": {
        "id": "FJjwBBx_m8YH"
      }
    },
    {
      "cell_type": "markdown",
      "source": [
        "### Implementacja"
      ],
      "metadata": {
        "id": "YZrvvY6Sm8YI"
      }
    },
    {
      "cell_type": "code",
      "source": [
        "def CycleSort(arr):\n",
        "  writes = 0 # przechowuje liczbe zamian\n",
        "\n",
        "  # iterujemy przez tablice aby znalezc cykle\n",
        "  for cycleStart in range(0,len(arr)-1):\n",
        "    item = arr[cycleStart]\n",
        "    pos = cycleStart\n",
        "\n",
        "    #szukamy gdzie nalezy wstawic item\n",
        "    for i in range(cycleStart + 1, len(arr)):\n",
        "      if arr[i] < item:\n",
        "        pos += 1\n",
        "\n",
        "    #jesli pozycja == cycleStart to nie ma cyklu\n",
        "    if pos == cycleStart:\n",
        "      continue;\n",
        "\n",
        "    # jesli nie to wstaw item na pos lub dalej jesli sa duplikaty\n",
        "    while item == arr[pos]:\n",
        "      pos += 1\n",
        "    arr[pos], item = item, arr[pos]\n",
        "    writes += 1\n",
        "\n",
        "    #Teraz rotation dla pozostalej czeci cyklu\n",
        "    while pos != cycleStart:\n",
        "\n",
        "      pos = cycleStart\n",
        "      for i in range(cycleStart + 1, len(arr)):\n",
        "        if arr[i] < item:\n",
        "          pos += 1\n",
        "      #wstaw item na pos lub dalej jesli sa duplikaty\n",
        "      while item == arr[pos]:\n",
        "        pos += 1\n",
        "      arr[pos], item = item, arr[pos]\n",
        "      writes += 1\n",
        "\n",
        "  return writes"
      ],
      "metadata": {
        "id": "qY-2R6YcpOtg"
      },
      "execution_count": null,
      "outputs": []
    },
    {
      "cell_type": "code",
      "source": [
        "arr = generate_data(data_type='random')\n",
        "print(arr)\n",
        "CycleSort(arr)\n",
        "print(arr)"
      ],
      "metadata": {
        "colab": {
          "base_uri": "https://localhost:8080/"
        },
        "id": "5cXZWLkesqTN",
        "outputId": "d2a6c836-12f1-4043-df5d-4f62941ccde6"
      },
      "execution_count": null,
      "outputs": [
        {
          "output_type": "stream",
          "name": "stdout",
          "text": [
            "[13, 93, 80, 14, 47, 60, 45, 72, 68, 7]\n",
            "[7, 13, 14, 45, 47, 60, 68, 72, 80, 93]\n"
          ]
        }
      ]
    },
    {
      "cell_type": "markdown",
      "source": [
        "## **Comb Sort (Sortowanie grzebieniowe)**"
      ],
      "metadata": {
        "id": "TMTLVN7RByo1"
      }
    },
    {
      "cell_type": "markdown",
      "source": [
        "Sortowanie grzebieniowe (Comb Sort) stanowi głównie ulepszenie sortowania bąbelkowego (Bubble Sort). W sortowaniu bąbelkowym porównywane są zawsze sąsiadujące wartości, co powoduje, że inwersje są eliminowane pojedynczo.  \n",
        "\n",
        "Sortowanie grzebieniowe poprawia ten proces, stosując **odstęp większy niż 1**. Na początku algorytm używa dużej wartości odstępu (`gap`), która w każdej iteracji zmniejsza się o współczynnik **1.3**, aż osiągnie wartość **1**. Dzięki temu Comb Sort eliminuje więcej niż jedną inwersję w jednej zamianie, co sprawia, że działa wydajniej niż Bubble Sort.  \n",
        "\n",
        "Empirycznie ustalono, że optymalny współczynnik zmniejszania wynosi **1.3** (na podstawie testów na ponad 200 000 losowych list) [Źródło: Wikipedia].  \n",
        "\n",
        "Choć Comb Sort działa lepiej niż Bubble Sort w większości przypadków, jego **najgorsza złożoność czasowa pozostaje na poziomie O(n²)**."
      ],
      "metadata": {
        "id": "GEYedz3-x-S6"
      }
    },
    {
      "cell_type": "markdown",
      "source": [
        "### Działanie\n"
      ],
      "metadata": {
        "id": "QwyGE-NLyEOs"
      }
    },
    {
      "cell_type": "markdown",
      "source": [
        "1. Rozpocznij od nieposortowanej tablicy zawierającej **n** elementów.  \n",
        "2. Zainicjalizuj zmienną **cycleStart** na **0**.  \n",
        "3. Dla każdego elementu w tablicy porównaj go z każdym innym elementem znajdującym się na prawo od niego. Jeśli znajdziesz elementy mniejsze od bieżącego, zwiększ wartość **cycleStart**.  \n",
        "4. Jeśli po porównaniu pierwszego elementu ze wszystkimi innymi **cycleStart** nadal wynosi **0**, przejdź do następnego elementu i powtórz krok 3.  \n",
        "5. Gdy znajdziesz mniejszy element, zamień bieżący element z pierwszym elementem w jego cyklu. Następnie kontynuuj cykl, aż bieżący element powróci na swoją pierwotną pozycję.  \n",
        "6. Powtarzaj kroki 3-5, dopóki wszystkie cykle nie zostaną zakończone.\n",
        "\n",
        "[Szczegółowy opis](https://www.geeksforgeeks.org/cycle-sort/)"
      ],
      "metadata": {
        "id": "vEdAupwHyEOs"
      }
    },
    {
      "cell_type": "markdown",
      "source": [
        "### Złożoność czasowa\n"
      ],
      "metadata": {
        "id": "wOfonvZdyEOt"
      }
    },
    {
      "cell_type": "markdown",
      "source": [
        "#### Najlepszy przypadek\n",
        "$  O(n*log(n) $)"
      ],
      "metadata": {
        "id": "dUZL9flryEOt"
      }
    },
    {
      "cell_type": "markdown",
      "source": [
        "#### Najgorszy przypadek\n",
        "\n",
        "$ O(n^2) $"
      ],
      "metadata": {
        "id": "H_nJAR2KyEOt"
      }
    },
    {
      "cell_type": "markdown",
      "source": [
        "### Złożoność pamięciowa\n"
      ],
      "metadata": {
        "id": "z3YL3FsTyEOt"
      }
    },
    {
      "cell_type": "markdown",
      "source": [
        "#### Najlepszy przypadek\n",
        "\n",
        "$ O(1) $\n"
      ],
      "metadata": {
        "id": "SgZMluGgyEOt"
      }
    },
    {
      "cell_type": "markdown",
      "source": [
        "#### Najgorszy przypadek\n",
        "$ O(1) $"
      ],
      "metadata": {
        "id": "Czh_-OZOyEOt"
      }
    },
    {
      "cell_type": "markdown",
      "source": [
        "### Sortowanie w miejscu? - Tak"
      ],
      "metadata": {
        "id": "4JfQmPjwyEOt"
      }
    },
    {
      "cell_type": "markdown",
      "source": [
        "### Implementacja"
      ],
      "metadata": {
        "id": "HtWAwYnZyEOu"
      }
    },
    {
      "cell_type": "code",
      "source": [
        "def getNextGap(gap):\n",
        "  gap = (gap*10) // 13\n",
        "  if gap < 1:\n",
        "    return 1\n",
        "  return gap\n",
        "\n",
        "def combSort(arr):\n",
        "  n = len(arr)\n",
        "\n",
        "  gap = n\n",
        "  swapped = True\n",
        "\n",
        "  while gap != 1 or swapped == True:\n",
        "    gap = getNextGap(gap)\n",
        "    swapped = False\n",
        "    for i in range(0, n-gap):\n",
        "      if arr[i]>arr[i+gap]:\n",
        "        arr[i],arr[i+gap] = arr[i+gap],arr[i]\n",
        "        swapped = True"
      ],
      "metadata": {
        "id": "_d53ovbXzC9R"
      },
      "execution_count": null,
      "outputs": []
    },
    {
      "cell_type": "code",
      "source": [
        "arr = generate_data(data_type='random')\n",
        "print(arr)\n",
        "combSort(arr)\n",
        "print(arr)"
      ],
      "metadata": {
        "colab": {
          "base_uri": "https://localhost:8080/"
        },
        "id": "ltLStXuO0wfJ",
        "outputId": "8d0c89ed-d8ef-4a6d-9768-1690c8f12ee4"
      },
      "execution_count": null,
      "outputs": [
        {
          "output_type": "stream",
          "name": "stdout",
          "text": [
            "[11, 61, 10, 80, 45, 0, 62, 67, 98, 34]\n",
            "[0, 10, 11, 34, 45, 61, 62, 67, 80, 98]\n"
          ]
        }
      ]
    },
    {
      "cell_type": "markdown",
      "source": [
        "# Algorytmy o złożoności $ O(n * log(n)) $"
      ],
      "metadata": {
        "id": "rgV11eAS-b7v"
      }
    },
    {
      "cell_type": "markdown",
      "source": [
        "## **Merge Sort (Sortowanie przez scalanie)**"
      ],
      "metadata": {
        "id": "BdwOrO8Q_anm"
      }
    },
    {
      "cell_type": "markdown",
      "source": [
        "Algorytm **Merge Sort** to algorytm sortowania oparty na metodzie **dziel i zwyciężaj**. Sortuje tablicę, najpierw dzieląc ją na mniejsze części, a następnie składając je z powrotem w poprawnej kolejności, aby uzyskać posortowaną tablicę.  \n",
        "**Podział (Divide):**  \n",
        "Algorytm rozpoczyna od dzielenia tablicy na coraz mniejsze fragmenty, aż każda podtablica składa się tylko z jednego elementu.  \n",
        "\n",
        "**Scalanie (Conquer):**  \n",
        "Następnie algorytm scala te małe fragmenty, umieszczając mniejsze wartości jako pierwsze, aż powstanie w pełni posortowana tablica.\n",
        "\n",
        "\n"
      ],
      "metadata": {
        "id": "HL6JnhPk3EDT"
      }
    },
    {
      "cell_type": "markdown",
      "source": [
        "### Działanie\n",
        "1. **Podziel tablicę** na dwie podtablice o połowie rozmiaru oryginalnej tablicy.  \n",
        "2. **Kontynuuj dzielenie** podtablic tak długo, jak długo dana część ma więcej niż jeden element.  \n",
        "3. **Scalaj podtablice**, zawsze umieszczając mniejszą wartość jako pierwszą.  \n",
        "4. **Powtarzaj scalanie**, aż nie pozostaną żadne podtablice – wówczas tablica będzie posortowana."
      ],
      "metadata": {
        "id": "JDCsqMD13K8X"
      }
    },
    {
      "cell_type": "markdown",
      "source": [
        "### Złożoność czasowa\n"
      ],
      "metadata": {
        "id": "3uJii0Rg3b_5"
      }
    },
    {
      "cell_type": "markdown",
      "source": [
        "#### Najlepszy przypadek\n",
        "$ O(nlog(n)) $"
      ],
      "metadata": {
        "id": "xo7uy6tF3b_5"
      }
    },
    {
      "cell_type": "markdown",
      "source": [
        "#### Najgorszy przypadek\n",
        "\n",
        "$ O(nlog(n)) $"
      ],
      "metadata": {
        "id": "utr_dpoq3b_5"
      }
    },
    {
      "cell_type": "markdown",
      "source": [
        "### Złożoność pamięciowa\n"
      ],
      "metadata": {
        "id": "aT-cs1303b_6"
      }
    },
    {
      "cell_type": "markdown",
      "source": [
        "#### Najlepszy przypadek\n",
        "\n",
        "$ O(n) $\n"
      ],
      "metadata": {
        "id": "GJAfqb8D3b_6"
      }
    },
    {
      "cell_type": "markdown",
      "source": [
        "#### Najgorszy przypadek\n",
        "$ O(n) $"
      ],
      "metadata": {
        "id": "LrG3nz_K3b_6"
      }
    },
    {
      "cell_type": "markdown",
      "source": [
        "### Sortowanie w miejscu? - Nie"
      ],
      "metadata": {
        "id": "gu9yC2173b_6"
      }
    },
    {
      "cell_type": "markdown",
      "source": [
        "### Implementacja\n"
      ],
      "metadata": {
        "id": "vHfMVuRZ4FN_"
      }
    },
    {
      "cell_type": "code",
      "source": [
        "def mergeSort(arr):\n",
        "  if len(arr) <= 1:\n",
        "    return arr\n",
        "\n",
        "  mid = len(arr) // 2\n",
        "  left = arr[:mid]\n",
        "  right = arr[mid:]\n",
        "\n",
        "  sortedLeft = mergeSort(left)\n",
        "  sortedRight = mergeSort(right)\n",
        "\n",
        "  return merge(sortedLeft,sortedRight)\n",
        "\n",
        "def merge(left,right):\n",
        "  result = []\n",
        "  left_idx = right_idx = 0\n",
        "  while left_idx < len(left) and right_idx < len(right):\n",
        "    if left[left_idx] < right[right_idx]:\n",
        "      result.append(left[left_idx])\n",
        "      left_idx+=1\n",
        "    else:\n",
        "      result.append(right[right_idx])\n",
        "      right_idx+=1\n",
        "\n",
        "  #Krótsze pythonowe\n",
        "  result.extend(left[left_idx:])\n",
        "  result.extend(right[right_idx:])\n",
        "\n",
        "  # Klasyczne podejscie\n",
        "  #for i in range(left_idx,len(left)): result.append(left[i])\n",
        "  #for i in range(right_idx,len(right)): result.append(right[i])\n",
        "\n",
        "  return result"
      ],
      "metadata": {
        "id": "wgqL1y4h4Hqe"
      },
      "execution_count": null,
      "outputs": []
    },
    {
      "cell_type": "code",
      "source": [
        "arr = generate_data(data_type='random')\n",
        "print(arr)\n",
        "# Trzeba przypisac\n",
        "arr = mergeSort(arr)\n",
        "print(arr)"
      ],
      "metadata": {
        "colab": {
          "base_uri": "https://localhost:8080/"
        },
        "id": "Q29kYgmX8TVz",
        "outputId": "fdcfde6f-05b0-40c3-a5e5-5dd7914e9f04"
      },
      "execution_count": null,
      "outputs": [
        {
          "output_type": "stream",
          "name": "stdout",
          "text": [
            "[13, 30, 27, 48, 48, 46, 0, 83, 22, 42]\n",
            "[0, 13, 22, 27, 30, 42, 46, 48, 48, 83]\n"
          ]
        }
      ]
    },
    {
      "cell_type": "markdown",
      "source": [
        "### Najlepsza implementacja - nie trzeba alokować co chwilę nowych tablic oraz niepotrzebnie kilka razy przepisywać wartości (wersja bez rekurencji)"
      ],
      "metadata": {
        "id": "P166ZoXB9y8R"
      }
    },
    {
      "cell_type": "code",
      "source": [
        "def mergeSortBest(arr):\n",
        "  temp_arr = [None] * len(arr) # tablica pomocnicza do przehowywania wyników scalania\n",
        "  step = 1 # zaczynamy scalanie od najmnijeszej podtablicy\n",
        "\n",
        "  while step < len(arr):\n",
        "    for left_idx in range(0,len(arr)-step, 2*step): # tak musi byc zeby kilka razy tego samego nie brac\n",
        "      mid_idx = left_idx + step\n",
        "      right_idx = mid_idx + step\n",
        "\n",
        "      if right_idx > len(arr): right_idx = len(arr)\n",
        "\n",
        "      # Merging\n",
        "      l = left_idx #do iterowania po lewej podtablicy (od left_idx do mid_idx).\n",
        "      m = mid_idx  #do iterowania po prawej podtablicy (od mid_idx do right_idx).\n",
        "      k = left_idx # do przypisywania wartości do temp_arr (od left_idx).\n",
        "\n",
        "      while l < mid_idx and m < right_idx:\n",
        "        if arr[l] <= arr[m]:\n",
        "          temp_arr[k] = arr[l]\n",
        "          l += 1\n",
        "        else:\n",
        "          temp_arr[k] = arr[m]\n",
        "          m += 1\n",
        "        k += 1\n",
        "\n",
        "      #Dopisujemy pozostale\n",
        "      while l < mid_idx:\n",
        "        temp_arr[k] = arr[l]\n",
        "        l += 1\n",
        "        k += 1\n",
        "      while m < right_idx:\n",
        "        temp_arr[k] = arr[m]\n",
        "        m += 1\n",
        "        k += 1\n",
        "\n",
        "    #jesli dalej jakis waartosci nie ma to dopisujemy\n",
        "    while k < len(arr):\n",
        "      temp_arr[k] = arr[k]\n",
        "      k += 1\n",
        "\n",
        "    #Zamieniamy tablice\n",
        "    arr, temp_arr = temp_arr, arr\n",
        "    step *= 2 # Aby scalac wieksze tablice\n",
        "\n",
        "  return arr\n"
      ],
      "metadata": {
        "id": "9_AM6k3N93wg"
      },
      "execution_count": null,
      "outputs": []
    },
    {
      "cell_type": "code",
      "source": [
        "arr = generate_data(data_type='random',size=15,min_value=-10)\n",
        "print(arr)\n",
        "# Trzeba przypisac\n",
        "arr = mergeSortBest(arr)\n",
        "print(arr)"
      ],
      "metadata": {
        "colab": {
          "base_uri": "https://localhost:8080/"
        },
        "id": "aBaSVG-5934B",
        "outputId": "e05f5da5-04ba-4908-91e2-0973a2703447"
      },
      "execution_count": null,
      "outputs": [
        {
          "output_type": "stream",
          "name": "stdout",
          "text": [
            "[-9, 98, 17, 84, 100, 98, 52, 53, 40, 56, 54, 56, -5, 54, 83]\n",
            "[-9, -5, 17, 40, 52, 53, 54, 54, 56, 56, 83, 84, 98, 98, 100]\n"
          ]
        }
      ]
    },
    {
      "cell_type": "markdown",
      "source": [
        "## **Heap Sort (Sortowanie kopcowe)**\n"
      ],
      "metadata": {
        "id": "U2MjTV-u_eat"
      }
    },
    {
      "cell_type": "markdown",
      "source": [
        "Heap Sort polega na zbudowaniu KOMPLETNEGO drzewa binarnego z kolejnych wartości, jakie znajdują się w sortowanej sekwencji (tablicy), a dokładniej struktury, która nazywa się Max Heap, a następnie odczycie kolejnych największych wartości z pozostałej części struktury i przenoszeniu wartości już posortowanych na koniec sekwencji (tablicy). Budowa struktury jest szybka, a jej złożoność czasowa wynosi\n",
        "$ O(n) $, natomiast sam odczyt wartości z \"Maksymalnego Kopca\" (Max Heap) wymaga już wykonania $ O(n*log(n)) $\n",
        " operacji. Wynika to stąd, że za każdym razem ściągamy wartość z korzenia kopca (kompletnego drzewa binarnego), tym samym \"psując\" kopiec. W miejsce usuniętej wartości wstawiamy dowolną wartość (najlepiej ostatni z liści), a następnie naprawiamy drzewo w czasie O(log(n)) $\n",
        "."
      ],
      "metadata": {
        "id": "JFW8ehXQvO-H"
      }
    },
    {
      "cell_type": "markdown",
      "source": [
        "### Złożoność czasowa\n"
      ],
      "metadata": {
        "id": "QmI3LP1BvwtK"
      }
    },
    {
      "cell_type": "markdown",
      "source": [
        "#### Najlepszy przypadek\n",
        "$  O(n*log(n) $)"
      ],
      "metadata": {
        "id": "s87J1tm3vwtL"
      }
    },
    {
      "cell_type": "markdown",
      "source": [
        "#### Najgorszy przypadek\n",
        "\n",
        "$  O(n*log(n) $)"
      ],
      "metadata": {
        "id": "BP4wCLgivwtL"
      }
    },
    {
      "cell_type": "markdown",
      "source": [
        "### Złożoność pamięciowa\n"
      ],
      "metadata": {
        "id": "2qjCqUiyvwtM"
      }
    },
    {
      "cell_type": "markdown",
      "source": [
        "#### Najlepszy przypadek\n",
        "\n",
        "$ O(1) $\n"
      ],
      "metadata": {
        "id": "eojDW2e_vwtM"
      }
    },
    {
      "cell_type": "markdown",
      "source": [
        "#### Najgorszy przypadek\n",
        "$ O(1) $"
      ],
      "metadata": {
        "id": "DBcy1mf4vwtN"
      }
    },
    {
      "cell_type": "markdown",
      "source": [
        "### Sortowanie w miejscu? - Tak"
      ],
      "metadata": {
        "id": "c8yXheBCvwtN"
      }
    },
    {
      "cell_type": "markdown",
      "source": [
        "### Implementacja 1 (użycie klasy reprezentującej Max Heap)"
      ],
      "metadata": {
        "id": "qKqDpfrrvwtO"
      }
    },
    {
      "cell_type": "code",
      "source": [
        "class MaxHeap:\n",
        "  def __init__ (self,values=None):\n",
        "    self.heap = values\n",
        "    self.build_heap()\n",
        "\n",
        "  #Dekorator @property pozwala traktować metodę klasy jak atrybut, czyli możemy ją wywoływać bez użycia nawiasów ()\n",
        "  @property\n",
        "  def heap_size(self):\n",
        "    return len(self.heap)\n",
        "\n",
        "  # gdy rodzic ma indeks k to\n",
        "  # lewe dziecko ma indeks 2k+1\n",
        "  # prawe dziecko ma indeks 2k+2\n",
        "\n",
        "  #Dekorator @staticmethod pozwala definiować metody, które nie wymagają dostępu do atrybutów instancji (self) ani klasy (cls).\n",
        "  @staticmethod\n",
        "  def left_child_idx(curr_idx):\n",
        "    return 2*curr_idx + 1\n",
        "\n",
        "\n",
        "  @staticmethod\n",
        "  def right_child_idx(curr_idx):\n",
        "    return 2*curr_idx + 2\n",
        "\n",
        "  def swap(self,i,j):\n",
        "    self.heap[i], self.heap[j] = self.heap[j], self.heap[i]\n",
        "\n",
        "  def max_heapify(self,curr_idx,end_idx):\n",
        "    while True:\n",
        "      left_idx = self.left_child_idx(curr_idx)\n",
        "      right_idx = self.right_child_idx(curr_idx)\n",
        "      largest_idx = curr_idx\n",
        "      if left_idx < end_idx:\n",
        "            if self.heap[left_idx] > self.heap[curr_idx]:\n",
        "              largest_idx = left_idx\n",
        "            if right_idx < end_idx and self.heap[right_idx] > self.heap[largest_idx]:\n",
        "              largest_idx = right_idx\n",
        "      if largest_idx != curr_idx:\n",
        "        self.swap(curr_idx,largest_idx)\n",
        "        curr_idx = largest_idx\n",
        "      else:\n",
        "        break\n",
        "\n",
        "\n",
        "  def build_heap(self):\n",
        "    for i in range((len(self.heap)-1) // 2,-1,-1): # Węzły od połowy tablicy w dół są liśćmi (nie mają dzieci). Zaczynamy od połowy tablicy, bo liście nie wymagają modyfikacji.\n",
        "      self.max_heapify(i,self.heap_size)\n",
        "\n",
        "def heapSort(arr):\n",
        "  max_heap = MaxHeap(arr)\n",
        "  # Ściągamy czubek, wstawiamy tam liscia i naprawiamy drzewo\n",
        "  for i in range(len(arr) - 1,0,-1):\n",
        "    arr[i], arr[0] = arr[0], arr[i]\n",
        "    max_heap.max_heapify(0,i)\n"
      ],
      "metadata": {
        "id": "ozIgyA_rvwtO"
      },
      "execution_count": null,
      "outputs": []
    },
    {
      "cell_type": "code",
      "source": [
        "arr = generate_data(data_type='random')\n",
        "print(arr)\n",
        "heapSort(arr)\n",
        "print(arr)"
      ],
      "metadata": {
        "colab": {
          "base_uri": "https://localhost:8080/"
        },
        "outputId": "96691910-7715-4be6-f480-980c68a56f10",
        "id": "FsbOy2WBvwtP"
      },
      "execution_count": null,
      "outputs": [
        {
          "output_type": "stream",
          "name": "stdout",
          "text": [
            "[36, 39, 53, 96, 28, 23, 23, 21, 23, 4]\n",
            "[4, 21, 23, 23, 23, 28, 36, 39, 53, 96]\n"
          ]
        }
      ]
    },
    {
      "cell_type": "markdown",
      "source": [
        "### Implementacja 2 (jedynie z użyciem funkcji)"
      ],
      "metadata": {
        "id": "G_6AQ9Vu8Fjr"
      }
    },
    {
      "cell_type": "code",
      "source": [
        "left_idx = lambda i: 2*i+1\n",
        "right_idx = lambda i: 2*i+2\n",
        "\n",
        "def max_heapify(arr, curr_idx, end_idx):\n",
        "  while True:\n",
        "    left = left_idx(curr_idx)\n",
        "    right = right_idx(curr_idx)\n",
        "    largest_idx = curr_idx\n",
        "\n",
        "    if left < end_idx:\n",
        "      if arr[left] > arr[curr_idx]:\n",
        "        largest_idx = left\n",
        "      if right < end_idx and arr[right] > arr[largest_idx]:\n",
        "        largest_idx = right\n",
        "\n",
        "    if largest_idx != curr_idx:\n",
        "      arr[curr_idx], arr[largest_idx] = arr[largest_idx], arr[curr_idx]\n",
        "      curr_idx = largest_idx\n",
        "    else:\n",
        "      return\n",
        "\n",
        "def build_heap(arr):\n",
        "  for i in range((len(arr)-1) // 2,-1,-1):\n",
        "    max_heapify(arr,i,len(arr))\n",
        "\n",
        "def heapSort(arr):\n",
        "  build_heap(arr)\n",
        "  for i in range(len(arr)-1,0,-1):\n",
        "    arr[i], arr[0] = arr[0], arr[i]\n",
        "    max_heapify(arr,0,i)"
      ],
      "metadata": {
        "id": "8PfmgoPr8E3N"
      },
      "execution_count": null,
      "outputs": []
    },
    {
      "cell_type": "code",
      "source": [
        "arr = generate_data(data_type='random')\n",
        "print(arr)\n",
        "heapSort(arr)\n",
        "print(arr)"
      ],
      "metadata": {
        "colab": {
          "base_uri": "https://localhost:8080/"
        },
        "id": "eAGv0cY29tjr",
        "outputId": "bd0b6f7d-211d-4cb5-f486-d31caa30a9d0"
      },
      "execution_count": null,
      "outputs": [
        {
          "output_type": "stream",
          "name": "stdout",
          "text": [
            "[8, 5, 32, 83, 28, 35, 28, 4, 41, 44]\n",
            "[4, 5, 8, 28, 28, 32, 35, 41, 44, 83]\n"
          ]
        }
      ]
    },
    {
      "cell_type": "markdown",
      "source": [
        "## **Quick Sort (Sortowanie szybkie)**"
      ],
      "metadata": {
        "id": "aQnBHQog_kUF"
      }
    },
    {
      "cell_type": "markdown",
      "source": [
        " Quicksort pobiera tablicę wartości, wybiera jeden z elementów jako \"pivot\", a następnie przemieszcza pozostałe wartości tak, aby mniejsze wartości znajdowały się po lewej stronie pivota, a większe wartości po jego prawej stronie."
      ],
      "metadata": {
        "id": "rgTCMGp3wqcA"
      }
    },
    {
      "cell_type": "markdown",
      "source": [
        "### Działanie\n"
      ],
      "metadata": {
        "id": "fEpqaVPYwvlF"
      }
    },
    {
      "cell_type": "markdown",
      "source": [
        "QuickSort działa na zasadzie **dziel i zwyciężaj**, rozbijając problem na mniejsze podproblemy, które są łatwiejsze do rozwiązania.\n",
        "\n",
        "Algorytm QuickSort składa się głównie z trzech kroków:\n",
        "\n",
        "1. **Wybór pivota**: Wybierz element z tablicy jako pivot. Wybór pivota może się różnić (np. pierwszy element, ostatni element, losowy element lub mediana).\n",
        "   \n",
        "2. **Podział tablicy**: Przekształć tablicę wokół pivota. Po podziale wszystkie elementy mniejsze od pivota znajdą się po jego lewej stronie, a większe po prawej. Pivot znajdzie się w swojej docelowej pozycji, a my uzyskujemy jego indeks.\n",
        "\n",
        "3. **Rekurencyjne wywołanie**: Rekursywnie stosuj ten sam proces do dwóch podtablic (po lewej i prawej stronie pivota).\n",
        "\n",
        "4. **Warunek zakończenia rekurencji**: Rekursja kończy się, gdy w podtablicy zostaje tylko jeden element, ponieważ pojedynczy element jest już posortowany.\n",
        "\n",
        "#### Wybór Pivota\n",
        "\n",
        "Istnieje wiele różnych sposobów wyboru pivota:\n",
        "\n",
        "- **Zawsze wybieraj pierwszy (lub ostatni) element jako pivot.** Ta metoda może prowadzić do najgorszego przypadku, jeśli tablica jest już posortowana.\n",
        "  \n",
        "- **Wybierz losowy element jako pivot.** Jest to preferowana metoda, ponieważ nie tworzy wzorca, który prowadzi do najgorszego przypadku.\n",
        "\n",
        "- **Wybierz element jako pivot na podstawie mediany.** Jest to optymalna metoda pod względem złożoności czasowej, ponieważ możemy znaleźć medianę w czasie liniowym, a funkcja podziału zawsze podzieli tablicę na dwie równe części. Jednak metoda ta ma wyższe koszty obliczeniowe, ponieważ znajdowanie mediany jest czasochłonne.\n",
        "\n",
        "#### Algorytm Podziału (Partition Algorithm)\n",
        "\n",
        "Kluczowym procesem w QuickSort jest funkcja **partition()**. Istnieją trzy popularne algorytmy do podziału tablicy. Wszystkie te algorytmy mają złożoność czasową **O(n)**:\n",
        "\n",
        "1. **Naive Partition**: Tworzymy kopię tablicy. Najpierw umieszczamy wszystkie elementy mniejsze niż pivot, a potem wszystkie większe. Na końcu kopiujemy tymczasową tablicę z powrotem do oryginalnej. Ta metoda wymaga dodatkowej pamięci **O(n)**.\n",
        "\n",
        "2. **Lomuto Partition**: Jest to prostszy algorytm, który śledzi indeksy mniejszych elementów i wykonuje zamiany.\n",
        "\n",
        "3. **Hoare’s Partition**: Jest to najszybsza z metod. Algorytm przechodzi przez tablicę z obu stron i zamienia elementy większe po lewej stronie z mniejszymi po prawej stronie, aż tablica jest w pełni podzielona. Daje to lepszą wydajność niż Lomuto, ponieważ wymaga mniej zamian.\n",
        "\n",
        "\n"
      ],
      "metadata": {
        "id": "AgamH9vFz4PC"
      }
    },
    {
      "cell_type": "markdown",
      "source": [
        "### Złożoność czasowa\n"
      ],
      "metadata": {
        "id": "H50elfUrwvlG"
      }
    },
    {
      "cell_type": "markdown",
      "source": [
        "#### Najlepszy przypadek\n",
        "$ O(n*log(n)) $"
      ],
      "metadata": {
        "id": "_yBDSoNlwvlG"
      }
    },
    {
      "cell_type": "markdown",
      "source": [
        "#### Najgorszy przypadek\n",
        "\n",
        "$ O(n^2) $ - źle dobrany pivot"
      ],
      "metadata": {
        "id": "8g85sI3qwvlH"
      }
    },
    {
      "cell_type": "markdown",
      "source": [
        "### Złożoność pamięciowa\n"
      ],
      "metadata": {
        "id": "dlBJtIHXwvlH"
      }
    },
    {
      "cell_type": "markdown",
      "source": [
        "#### Najlepszy przypadek\n",
        "\n",
        "$ O(log(n)) $\n"
      ],
      "metadata": {
        "id": "PuvFgapjxInd"
      }
    },
    {
      "cell_type": "markdown",
      "source": [
        "#### Najgorszy przypadek\n",
        "$ O(n) $ - dla źle wybranego pivota"
      ],
      "metadata": {
        "id": "isKFrUHHxInf"
      }
    },
    {
      "cell_type": "markdown",
      "source": [
        "### Sortowanie w miejscu? - Tak (przy założeniu, że pamięć, jaką zajmuje stos rekurencyjny, wliczamy do złożoności)"
      ],
      "metadata": {
        "id": "DP8MS2grwvlI"
      }
    },
    {
      "cell_type": "markdown",
      "source": [
        "Głosy są podzielone. Niby nie rezerwujemy pamięci w sposób jawny w celu tymczasowego przechowywania częściowo posortowanych danych, ale jednak złożoność pamięciowa algorytmu nie wynosi $ O(1) $\n",
        ", ponieważ zmienne przechowywane na stosie rekurencyjnym również zajmują pamięć, więc stwierdzenie, czy sortowanie odbywa się w miejscu, zależy od tego, jak na to spojrzymy."
      ],
      "metadata": {
        "id": "w56lq3K6yATb"
      }
    },
    {
      "cell_type": "markdown",
      "source": [
        "### Implementacja 1 (Pivot z góry określony (ostatni element),rekurencyjne , algorytm Lomuto)\n"
      ],
      "metadata": {
        "id": "KvwgOEuKwvlI"
      }
    },
    {
      "cell_type": "code",
      "source": [
        "def quickSort(arr):\n",
        "  _quickSort(arr,0,len(arr)-1)\n",
        "\n",
        "def _quickSort(arr, left_idx, right_idx):\n",
        "  while left_idx<right_idx:\n",
        "    pivot_position = partition(arr,left_idx,right_idx)\n",
        "    _quickSort(arr,left_idx,pivot_position-1)\n",
        "    left_idx = pivot_position + 1 # usunięta rekursja ogonowa\n",
        "    '''Bez usuwania rekursji ogonowej'''\n",
        "#     if left_idx < right_idx:\n",
        "#         pivot_position = partition(arr, left_idx, right_idx)\n",
        "#         _quick_sort(arr, left_idx, pivot_position - 1)\n",
        "#         _quick_sort(arr, pivot_position + 1, right_idx)\n",
        "\n",
        "'''Wersja Lomuto'''\n",
        "def partition(arr,left_idx,right_idx):\n",
        "  pivot = arr[right_idx]\n",
        "\n",
        "  i = left_idx\n",
        "  #Podzial na 2 podtablice - wieksze i mniejsze\n",
        "  for j in range(left_idx, right_idx):\n",
        "    if arr[j] < pivot:\n",
        "      swap(arr,i,j)\n",
        "      i += 1\n",
        "\n",
        "  #Przesuniecie pivota na odpowiedznie miejse\n",
        "  swap(arr,i,right_idx)\n",
        "\n",
        "  #Zwracamy pozycję pivota\n",
        "  return i\n",
        "\n",
        "def swap(arr,i,j):\n",
        "  arr[i], arr[j] = arr[j], arr[i]"
      ],
      "metadata": {
        "id": "8iTRlUKyykpg"
      },
      "execution_count": null,
      "outputs": []
    },
    {
      "cell_type": "code",
      "source": [
        "arr = generate_data(data_type='random',size=15)\n",
        "print(arr)\n",
        "quickSort(arr)\n",
        "print(arr)"
      ],
      "metadata": {
        "colab": {
          "base_uri": "https://localhost:8080/"
        },
        "id": "AtspSawl7JVT",
        "outputId": "b8c4320e-b567-4d5a-d966-5fb1b1b9aea3"
      },
      "execution_count": null,
      "outputs": [
        {
          "output_type": "stream",
          "name": "stdout",
          "text": [
            "[31, 54, 46, 63, 22, 94, 13, 11, 61, 62, 85, 50, 97, 22, 96]\n",
            "[11, 13, 22, 22, 31, 46, 50, 54, 61, 62, 63, 85, 94, 96, 97]\n"
          ]
        }
      ]
    },
    {
      "cell_type": "markdown",
      "source": [
        "### Implementacja 2 (Pivot z góry określony (teraz pierwszy element),rekurencyjne , algorytm podziału Hoare’a )"
      ],
      "metadata": {
        "id": "eqR8Q25x71_y"
      }
    },
    {
      "cell_type": "markdown",
      "source": [
        "O ile w implementacji funkcji partition zaproponowanej przez Lomuto mamy pewność, że po podziale, pivot znajduje się na swojej końcowej pozycji, tj. wyznaczyliśmy jego położenie końcowe w posortowanej tablicy, więc w kolejnych iteracjach sortujemy pozostałe części tablicy z pominięciem pivota, tak w implementacji funkcji podziału Hoare'a, wiemy jedynie, że pivot znajduje się pod koniec na zwróconej przez funkcję partition pozycji i należy do części tablicy, składającej się z elementów od niego mniejszych i mu równych. Nie oznacza to, że pivot znalazł się na swojej końcowej pozycji, więc musimy posortować lewą część tablicy wraz z pivotem oraz prawą (bez pivota)."
      ],
      "metadata": {
        "id": "5oaMA1PE8okU"
      }
    },
    {
      "cell_type": "code",
      "source": [
        "def _quickSort(arr, left_idx, right_idx):\n",
        "  while left_idx<right_idx:\n",
        "    pivot_position = partition(arr,left_idx,right_idx)\n",
        "    _quickSort(arr,left_idx,pivot_position), '<- zamiast pivot_position-1 samo pivot_position'\n",
        "    left_idx = pivot_position + 1 # usunięta rekursja ogonowa\n",
        "\n",
        "'''Wersja Hoare'a'''\n",
        "def partition(arr,left_idx,right_idx):\n",
        "  pivot = arr[left_idx]\n",
        "\n",
        "  i = left_idx - 1\n",
        "  j = right_idx + 1\n",
        "  while True:\n",
        "    i += 1\n",
        "    while arr[i] < pivot: i += 1\n",
        "\n",
        "    j -= 1\n",
        "    while arr[j] > pivot: j -= 1\n",
        "\n",
        "    if i<j:\n",
        "      swap(arr, i, j)\n",
        "    else: #zwracamy pozycje pivota\n",
        "      return j\n",
        "\n",
        "def swap(arr,i,j):\n",
        "  arr[i], arr[j] = arr[j], arr[i]"
      ],
      "metadata": {
        "id": "zCpBHLWY71ZG"
      },
      "execution_count": null,
      "outputs": []
    },
    {
      "cell_type": "code",
      "source": [
        "arr = generate_data(data_type='random',size=15)\n",
        "print(arr)\n",
        "quickSort(arr)\n",
        "print(arr)"
      ],
      "metadata": {
        "colab": {
          "base_uri": "https://localhost:8080/"
        },
        "id": "mlR2oMc9-SL6",
        "outputId": "6075ebca-29f5-42d2-895d-1b01f25d5973"
      },
      "execution_count": null,
      "outputs": [
        {
          "output_type": "stream",
          "name": "stdout",
          "text": [
            "[84, 21, 63, 27, 86, 23, 56, 45, 49, 46, 48, 69, 47, 97, 88]\n",
            "[21, 23, 27, 45, 46, 47, 48, 49, 56, 63, 69, 84, 86, 88, 97]\n"
          ]
        }
      ]
    },
    {
      "cell_type": "markdown",
      "source": [
        "# Algorytmy o złożoności $ O(n) $"
      ],
      "metadata": {
        "id": "a2k1NDhs_5r4"
      }
    },
    {
      "cell_type": "markdown",
      "source": [
        "## **Counting Sort (Sortowanie przez zliczanie)**"
      ],
      "metadata": {
        "id": "OJEL3lry_8Sp"
      }
    },
    {
      "cell_type": "markdown",
      "source": [
        "Założenia, aby użycie było opłacalne:\n",
        "\n",
        "\n",
        "*   Z reguły zakładamy, że sortowane elementy to liczby całkowite z przedziału od 0 do pewnej wartości k, będącej największą wartością w sortowanej tablicy (możliwe jest oczywiście sortowanie również liczb ujemnych, przy pomocy tego algorytmu, bądź także liter (ciągów tekstowych więcej niż 1-literowych lepiej nie sortować tym sposobem), po wprowadzeniu odpowiednich modyfikacji algorytmu,\n",
        "*   Counting Sort działa najlepiej dla danych, w których wiele wartości się powtarza, choć nie wpływa to znacząco na jego złożoność, która ZAWSZE zależy w największym stopniu od zakresu wartości, czyli jaka jest wartość najmniejsza i jaka największa.\n",
        "\n"
      ],
      "metadata": {
        "id": "d9EJbhZMv481"
      }
    },
    {
      "cell_type": "markdown",
      "source": [
        "### Ograniczenia"
      ],
      "metadata": {
        "id": "IsB7o18Uv52R"
      }
    },
    {
      "cell_type": "markdown",
      "source": [
        "\n",
        "\n",
        "*   Liczby całkowite\n",
        "*   Ograniczony zakres liczb\n",
        "*   Nieujemne ( można obejść )\n",
        "\n",
        "\n",
        "\n"
      ],
      "metadata": {
        "id": "VLT1MbBVv52S"
      }
    },
    {
      "cell_type": "markdown",
      "source": [
        "### Złożoność czasowa\n"
      ],
      "metadata": {
        "id": "DNld4lPmv52S"
      }
    },
    {
      "cell_type": "markdown",
      "source": [
        "Każdy przypadek\n",
        "\n",
        "$ O(n + k) $\n",
        "\n",
        " $ n $- liczba elementów w sortowanej tablicy (wszystkich),\n",
        "\n",
        " $ k $- zakres unikatowych wartości (zazwyczaj liczba liczb całkowitych, jakie znajdują się w przedziale $ [0,k] $\n",
        ", gdzie $ k $\n",
        " jest największą liczbą z sortowanej tablicy) (rzeczywiście na przedziale domkniętym jest $ k + 1 $\n",
        " unikatowych wartości, ale różnica o stałą równą\n",
        " nie jest uwzględniana w złożoności)"
      ],
      "metadata": {
        "id": "iCJnNPNqv52S"
      }
    },
    {
      "cell_type": "markdown",
      "source": [
        "### Złożoność pamięciowa\n"
      ],
      "metadata": {
        "id": "lxkxDSEJv52T"
      }
    },
    {
      "cell_type": "markdown",
      "source": [
        "#### Każdy przypadek\n",
        "\n",
        "$ O(n + k) $\n",
        "\n",
        " $ k $- tworzymy pomocniczą tablicę, w której będziemy przechowywać liczby wystąpień poszczególnych wartości pod indeksami, które odpowiadają tym wartościom (dlatego najlepiej działa ten algorytm na liczbach z małych przedziałów). Później modyfikujemy tę tablicę tak, by dla danego indeksu (odpowiadającego danej liczbie), w komórce tablicy pomocniczej o tym indeksie, występowała liczba wartości, które są nie większe niż indeks tej komórki.\n",
        "\n",
        "$ n $ - pomocnicza tablica, do której przepisujemy wartości w odpowiedniej kolejności, tak, aby je ponownie później przepisać do tablicy wyjściowej."
      ],
      "metadata": {
        "id": "Gwa2vVhtv52T"
      }
    },
    {
      "cell_type": "markdown",
      "source": [
        "### Sortowanie w miejscu? - Nie"
      ],
      "metadata": {
        "id": "zhC4r6NPv52T"
      }
    },
    {
      "cell_type": "markdown",
      "source": [
        "### Implementacja 1 ( Nieujemne wartości i po prostu funkcja max, bez użycia po i append, z robieniem sumy prefiksowej)"
      ],
      "metadata": {
        "id": "TecRoPD3v52T"
      }
    },
    {
      "cell_type": "code",
      "source": [
        "def countingSort(arr):\n",
        "  # Największa wartość\n",
        "  max_value = max(arr)\n",
        "  # Tablica do zliczania\n",
        "  counts = [0] * (max_value + 1)\n",
        "  #Zliczamy wystąpienia\n",
        "  for val in arr:\n",
        "    counts[val]+=1\n",
        "  # Mofyfikacja tablicy aby wskazywala ile wrtosci jest nie wiekszych niz dana\n",
        "  for i in range(1,len(counts)):\n",
        "    counts[i] += counts[i-1]\n",
        "  # Tablica pomocnicza\n",
        "  temp = [None] * len(arr)\n",
        "  # Przeoisujemy wartosci do temporary\n",
        "  for i in range(len(arr)-1,-1,-1):\n",
        "    counts[arr[i]] -= 1 # zaznazamy w counts ze spotkana juz raz\n",
        "    temp[counts[arr[i]]] = arr[i] # przypisujemy odpowiedia wartosc\n",
        "    # dzieki uzyciu tablicy prefiksowej bedziemy za kazdym razem wiedizc gdzie wpisac wartosc\n",
        "  #Przepisujemy posortowane wartosci\n",
        "  for i in range(len(temp)):\n",
        "    arr[i] = temp[i]"
      ],
      "metadata": {
        "id": "q7CdawMcv9Jw"
      },
      "execution_count": null,
      "outputs": []
    },
    {
      "cell_type": "code",
      "source": [
        "arr = generate_data(data_type='random',max_value=10,size =20)\n",
        "print(arr)\n",
        "countingSort(arr)\n",
        "print(arr)"
      ],
      "metadata": {
        "colab": {
          "base_uri": "https://localhost:8080/"
        },
        "id": "I0y1ofw63q6B",
        "outputId": "85959ecf-469d-478f-cb7a-4b4a7c9aa156"
      },
      "execution_count": null,
      "outputs": [
        {
          "output_type": "stream",
          "name": "stdout",
          "text": [
            "[2, 3, 5, 3, 7, 0, 2, 0, 4, 7, 4, 9, 7, 6, 2, 0, 7, 9, 6, 2]\n",
            "[0, 0, 0, 2, 2, 2, 2, 3, 3, 4, 4, 5, 6, 6, 7, 7, 7, 7, 9, 9]\n"
          ]
        }
      ]
    },
    {
      "cell_type": "markdown",
      "source": [
        "### Implementacja 2 (  Nieujemne wartości i po prostu funkcja max, używamy pop i append(mniej efektywne))"
      ],
      "metadata": {
        "id": "7fPgPyMV4WJN"
      }
    },
    {
      "cell_type": "code",
      "source": [
        "def countingSort(arr):\n",
        "  max_value = max(arr)\n",
        "  count = [0] * (max_value + 1)\n",
        "\n",
        "  while len(arr) > 0:\n",
        "    num = arr.pop(0)\n",
        "    count[num] += 1\n",
        "\n",
        "  for i in range(len(count)):\n",
        "    while count[i] > 0:\n",
        "      arr.append(i)\n",
        "      count[i] -= 1\n",
        "  return arr\n"
      ],
      "metadata": {
        "id": "KttANKQ24VpJ"
      },
      "execution_count": null,
      "outputs": []
    },
    {
      "cell_type": "code",
      "source": [
        "arr = generate_data(data_type='random',max_value=10,size =20)\n",
        "print(arr)\n",
        "countingSort(arr)\n",
        "print(arr)"
      ],
      "metadata": {
        "colab": {
          "base_uri": "https://localhost:8080/"
        },
        "id": "GHQ22bMtBQ9p",
        "outputId": "d81200b1-ad6c-4ca7-be4a-42af2a7987eb"
      },
      "execution_count": null,
      "outputs": [
        {
          "output_type": "stream",
          "name": "stdout",
          "text": [
            "[5, 6, 1, 10, 8, 8, 3, 6, 2, 7, 7, 9, 9, 4, 1, 8, 4, 8, 5, 5]\n",
            "[1, 1, 2, 3, 4, 4, 5, 5, 5, 6, 6, 7, 7, 8, 8, 8, 8, 9, 9, 10]\n"
          ]
        }
      ]
    },
    {
      "cell_type": "markdown",
      "source": [
        "### Implementacja 3 ( ujemne wartości, liniowe wyszukiwanie wartości najmniejszej i największej )"
      ],
      "metadata": {
        "id": "-cKSb2M_BzZw"
      }
    },
    {
      "cell_type": "code",
      "source": [
        "def countingSort(arr):\n",
        "  min_,max_ = minmax(arr)\n",
        "  _countingSort(arr,min_,max_)\n",
        "\n",
        "def minmax(arr):\n",
        "  global_min = global_max = arr[-1]\n",
        "\n",
        "  for i in range(0,len(arr)-1,2):\n",
        "    if arr[i] > arr[i+1]:\n",
        "      if arr[i] > global_max: global_max = arr[i]\n",
        "      if arr[i+1] < global_min: global_min = arr[i+1]\n",
        "    else:\n",
        "      if arr[i+1] > global_max: global_max = arr[i+1]\n",
        "      if arr[i] < global_min: global_min = arr[i]\n",
        "  return global_min, global_max\n",
        "\n",
        "def _countingSort(arr,min_,max_):\n",
        "  counts = [0] * (max_ - min_ + 1)\n",
        "  temp = [None] * len(arr)\n",
        "  for val in arr:\n",
        "    counts[val - min_] += 1\n",
        "  #metoda z suma prefiksowa\n",
        "  for i in range(1, len(counts)):\n",
        "    counts[i] += counts[i-1]\n",
        "  for i in range(len(arr)-1, -1, -1):\n",
        "    counts[arr[i] - min_] -= 1\n",
        "    temp[counts[arr[i] - min_]] = arr[i]\n",
        "  for i in range(len(arr)):\n",
        "    arr[i] = temp [i]\n"
      ],
      "metadata": {
        "id": "I87WJEsKByvj"
      },
      "execution_count": null,
      "outputs": []
    },
    {
      "cell_type": "code",
      "source": [
        "arr = generate_data(data_type='random',min_value=-20,max_value=10,size =20)\n",
        "print(arr)\n",
        "countingSort(arr)\n",
        "print(arr)"
      ],
      "metadata": {
        "colab": {
          "base_uri": "https://localhost:8080/"
        },
        "id": "oaE-HGDEE79T",
        "outputId": "3a170c40-3f27-48e4-aed4-c53c45c19eb5"
      },
      "execution_count": null,
      "outputs": [
        {
          "output_type": "stream",
          "name": "stdout",
          "text": [
            "[-10, 6, 1, -9, 6, -9, -11, -7, 3, 4, -16, -4, -12, -8, -5, 8, -10, -5, -19, -8]\n",
            "[-19, -16, -12, -11, -10, -10, -9, -9, -8, -8, -7, -5, -5, -4, 1, 3, 4, 6, 6, 8]\n"
          ]
        }
      ]
    },
    {
      "cell_type": "markdown",
      "source": [
        "## **Radix Sort (Sortowanie pozycyjne)**"
      ],
      "metadata": {
        "id": "Uytbo5GuACDO"
      }
    },
    {
      "cell_type": "markdown",
      "source": [
        "### Działanie"
      ],
      "metadata": {
        "id": "eB0y3xRLG2JW"
      }
    },
    {
      "cell_type": "markdown",
      "source": [
        "1. Zacznij od najmniej znaczącej cyfry (najbardziej prawej cyfry).  \n",
        "2. Posortuj wartości na podstawie aktualnie analizowanej cyfry – umieszczając je najpierw w odpowiednich \"kubełkach\" według tej cyfry, a następnie przepisując je z powrotem do tablicy w odpowiedniej kolejności.  \n",
        "3. Przejdź do kolejnej cyfry i ponownie posortuj dane według tej cyfry, tak jak w poprzednim kroku. Powtarzaj, aż wszystkie cyfry zostaną przetworzone."
      ],
      "metadata": {
        "id": "0vFt4to-J9YZ"
      }
    },
    {
      "cell_type": "markdown",
      "source": [
        "### Ograniczenia i założenia\n",
        "\n",
        "- Dane wejściowe musi się dać podzielić na poszczególne fragmenty, odpowiadające pojednyczej cyfrze (lub pojedynczemu znakowi w przypadku sortowania tekstu),(tylko liczby całkowite)\n",
        "\n",
        "- Algorytm pomocniczy, przy pomocy którego będziemy sortować wartości według znaków (poszczególnych cyfr), musi mieć niską złożoność i, przede wszystkim, być stabilny (tylko wtedy Radix Sort działa prawidłowo)."
      ],
      "metadata": {
        "id": "uFg-BpoQGyRV"
      }
    },
    {
      "cell_type": "markdown",
      "source": [
        "\n",
        "\n",
        "\n",
        "\n"
      ],
      "metadata": {
        "id": "iw4J3j4uGyRW"
      }
    },
    {
      "cell_type": "markdown",
      "source": [
        "### Złożoność czasowa\n"
      ],
      "metadata": {
        "id": "yGblt-gqGyRW"
      }
    },
    {
      "cell_type": "markdown",
      "source": [
        "Każdy przypadek: $ O(d * ( n + b)) $\n",
        "\n",
        "$ d $ - $ log_b(k)$, gdzie $ k $ - maksymalna wartość w sortowanej tablicy,\n",
        "\n",
        "$ n $ - liczba elementów w sortowanej tablicy,\n",
        "\n",
        "$ b $ - podstawa systemu liczbowego, w jakim odbywa się sortowanie (bo tyle elementów będzie miała tablica, służąca do zliczania powrótek wartości (Radix Sort zazwyczaj korzysta z Counting Sorta) (W przypadku sortowania tekstu, jako podstawę przyjmujemy różnicę między największym kodem ASCII liter a najmniejszym (plus **1**\n",
        "), zwykle będzie to liczba **26**\n",
        ", ponieważ tyle jest małych liter alfabetu łacińskiego. Samo sortowanie wygląda jednak nieco inaczej niż w przypadku sortowania liczb))"
      ],
      "metadata": {
        "id": "wi7E8ge2HoMz"
      }
    },
    {
      "cell_type": "markdown",
      "source": [
        "### Złożoność pamięciowa\n"
      ],
      "metadata": {
        "id": "JVjHNOk4GyRW"
      }
    },
    {
      "cell_type": "markdown",
      "source": [
        "Każdy przypadek: $ O(n + b) $\n",
        "\n",
        "$ n $ -  liczba sortowanych elementów (tyle elementów będzie miała tablica temp),\n",
        "\n",
        "$ b $ - podstawa systemu liczbowego (tyle elementów będzie miała tablica count). Podstawa ta może być dowolna (nie musimy koniecznie sortować liczb dziesiętnych, biorąc za podstawę systemu liczbowego wartość $ b $ = 10)"
      ],
      "metadata": {
        "id": "BjxVgSROHFJF"
      }
    },
    {
      "cell_type": "markdown",
      "source": [
        "### Sortowanie w miejscu? - Nie\n",
        "\n",
        "Zawsze musimy użyć dodatkowej pamięci, która jest zależna od danych wejściowych (tu od liczby elementów do posortowania oraz liczby unikatowych wartości z tego przedziału, do którego należą sortowane wartości)."
      ],
      "metadata": {
        "id": "xoGBh3vgGyRW"
      }
    },
    {
      "cell_type": "markdown",
      "source": [
        "### Implementacja 1 (dla podstawy 10, pomocniczy - Counting sort, nieujemne całkwoite)"
      ],
      "metadata": {
        "id": "MpRJ-7H_LO8q"
      }
    },
    {
      "cell_type": "code",
      "source": [
        "def helperCountingSort(arr, digit_place):\n",
        "  counts = [0] * 10\n",
        "  temp = [None] * len(arr)\n",
        "  for value in arr:\n",
        "    digit = (value // digit_place) % 10\n",
        "    counts[digit] += 1\n",
        "  for i in range(1,10):\n",
        "    counts[i] += counts[i-1]\n",
        "  for i in range(len(arr) - 1, -1, -1):\n",
        "    digit = (arr[i] // digit_place) % 10\n",
        "    counts[digit] -= 1\n",
        "    temp[counts[digit]] = arr[i]\n",
        "  for i in range(len(arr)):\n",
        "    arr[i]=temp[i]\n",
        "\n",
        "def radixSort(arr):\n",
        "  max_value = _max(arr)\n",
        "  digit_place = 1\n",
        "  while max_value >= digit_place:\n",
        "    helperCountingSort(arr, digit_place)\n",
        "    digit_place *= 10\n",
        "\n",
        "\n",
        "def _max(arr):\n",
        "  max_value = arr[0]\n",
        "  for i in range(1,len(arr)):\n",
        "    if arr[i] > max_value: max_value = arr[i]\n",
        "  return max_value"
      ],
      "metadata": {
        "id": "BV-TExnDLztJ"
      },
      "execution_count": null,
      "outputs": []
    },
    {
      "cell_type": "code",
      "source": [
        "arr = generate_data(data_type='random',max_value=10,size =20)\n",
        "print(arr)\n",
        "radixSort(arr)\n",
        "print(arr)"
      ],
      "metadata": {
        "colab": {
          "base_uri": "https://localhost:8080/"
        },
        "id": "9bgifO3dLzzP",
        "outputId": "77fdabfe-65ba-42fb-ad05-ac4fbbb87a7c"
      },
      "execution_count": null,
      "outputs": [
        {
          "output_type": "stream",
          "name": "stdout",
          "text": [
            "[3, 1, 10, 10, 3, 8, 6, 9, 6, 6, 2, 9, 6, 4, 5, 9, 5, 8, 6, 8]\n",
            "[1, 2, 3, 3, 4, 5, 5, 6, 6, 6, 6, 6, 8, 8, 8, 9, 9, 9, 10, 10]\n"
          ]
        }
      ]
    },
    {
      "cell_type": "markdown",
      "source": [
        "### Implementacja 2 (dowolna podstawa ( w której sortujemy), pomocniczy - Counting sort, nieujemne całkwoite)"
      ],
      "metadata": {
        "id": "t-b3dPhPLz7h"
      }
    },
    {
      "cell_type": "code",
      "source": [
        "def helperCountingSort(arr, base, digit_place):\n",
        "  counts = [0] * base\n",
        "  temp = [None] * len(arr)\n",
        "  for value in arr:\n",
        "    digit = (value // digit_place) % base\n",
        "    counts[digit] += 1\n",
        "  for i in range(1,10):\n",
        "    counts[i] += counts[i-1]\n",
        "  for i in range(len(arr) - 1, -1, -1):\n",
        "    digit = (arr[i] // digit_place) % base\n",
        "    counts[digit] -= 1\n",
        "    temp[counts[digit]] = arr[i]\n",
        "  for i in range(len(arr)):\n",
        "    arr[i]=temp[i]\n",
        "\n",
        "def radixSort(arr, base=10): # domyslnie w 10 , mozna zmienic\n",
        "  max_value = _max(arr)\n",
        "  digit_place = 1\n",
        "  while max_value >= digit_place:\n",
        "    helperCountingSort(arr, base, digit_place)\n",
        "    digit_place *= base\n",
        "\n",
        "\n",
        "def _max(arr):\n",
        "  max_value = arr[0]\n",
        "  for i in range(1,len(arr)):\n",
        "    if arr[i] > max_value: max_value = arr[i]\n",
        "  return max_value"
      ],
      "metadata": {
        "id": "CUFTYVhqL99A"
      },
      "execution_count": null,
      "outputs": []
    },
    {
      "cell_type": "code",
      "source": [
        "arr = generate_data(data_type='random',max_value=10,size =20)\n",
        "print(arr)\n",
        "radixSort(arr)\n",
        "print(arr)"
      ],
      "metadata": {
        "colab": {
          "base_uri": "https://localhost:8080/"
        },
        "id": "qyNAgf9ZL-BX",
        "outputId": "f39db77a-8403-4312-fada-3a84c7788c57"
      },
      "execution_count": null,
      "outputs": [
        {
          "output_type": "stream",
          "name": "stdout",
          "text": [
            "[0, 10, 7, 9, 10, 7, 3, 7, 7, 4, 0, 2, 0, 5, 8, 3, 1, 4, 0, 6]\n",
            "[0, 0, 0, 0, 1, 2, 3, 3, 4, 4, 5, 6, 7, 7, 7, 7, 8, 9, 10, 10]\n"
          ]
        }
      ]
    },
    {
      "cell_type": "markdown",
      "source": [
        "## **Bucket Sort (Sortowanie kubełkowe)**"
      ],
      "metadata": {
        "id": "74ud5C2TAnWG"
      }
    },
    {
      "cell_type": "markdown",
      "source": [
        "### Ograniczenia i założenia\n"
      ],
      "metadata": {
        "id": "0HUO3v7R4Wly"
      }
    },
    {
      "cell_type": "markdown",
      "source": [
        "- MAMY PEWNOŚĆ, że otrzymujemy dane wejściowe o ROZKŁADZIE JEDNOSTAJNYM. Oznacza to, że każde z wiaderek, na które podzielimy dane wejściowe (w czasie liniowym), będzie zawierało zbliżoną liczbę elementów do pozostałych wiaderek,\n",
        "- Tak naprawdę algorytm sortowania Bucket Sort sam w sobie nie jest algorytmem sortowania, a jedynie algorytmem, który dzieli dane wejściowe na mniejsze, szybsze i łatwiejsze w sortowaniu zbiory danych,\n",
        "- Podzielone na wiaderka dane musimy posortować jakimś wydajnym (w zależności od liczby elementów w wiaderku) algorytmem. Jeżeli liczba elementów jest niewielka, najlepiej się sprawdzi uniwersalny algorytm sortowania, jakim jest Insertion Sort (dla małych danych algorytm ten jest szybki, poza tym, jest to stabilny algorytm sortowania, więc możemy otrzymać stabilną wersję Bucket Sorta i jeszcze jedno, dla prawie posortowanych danych, złożoność Insertion Sorta jest liniowa, a więc istnieje największa szansa, że użycie tego prostego algorytmu o średniej złożoności obliczeniowej $ O(n^2) $\n",
        ", spowoduje posortowanie niektórych wiaderek w czasie liniowym), natomiast dla większych wiaderek, lepiej wykorzystać jakiś algorytm o złożoności $ O(n * log(n)) $\n",
        ",\n",
        "- Warto dodać, że jeżeli pojemniki (wiaderka) zawierają liczby całkowite lub ciągi tekstowe, można wykorzystać np. Radix Sorta do posortowania każdego z pojemników lub Counting Sorta, jeżeli zakres liczb jest niewielki, a liczb o powtarzającej się wartości jest dużo,\n",
        "- Ponieważ nie mamy pewności, ile dokładnie elementów trafi do danego pojemnika, nie opłaca się alokować pamięci \"na sztywno\" dla każdego z pojemników."
      ],
      "metadata": {
        "id": "t3fVE3bu5R81"
      }
    },
    {
      "cell_type": "markdown",
      "source": [
        "### Działanie"
      ],
      "metadata": {
        "id": "hyTda2Op4Wlx"
      }
    },
    {
      "cell_type": "markdown",
      "source": [
        "1. Podziel zadany przedział liczb na k podprzedziałów (kubełków) o równej długości.\n",
        "\n",
        "2. Przypisz liczby z sortowanej tablicy do odpowiednich kubełków.\n",
        "\n",
        "3. Sortuj liczby w niepustych kubełkach.\n",
        "\n",
        "4. Wypisz po kolei zawartość niepustych kubełków."
      ],
      "metadata": {
        "id": "pgslkocH58dD"
      }
    },
    {
      "cell_type": "markdown",
      "source": [
        "### Złożoność czasowa\n"
      ],
      "metadata": {
        "id": "F2DUdN994Wly"
      }
    },
    {
      "cell_type": "markdown",
      "source": [
        "#### Najlepszy przypadek\n",
        "\n",
        "$ O(n + k) $\n",
        "\n",
        "$ O(n) $ - czas utworzenia kubełków (jest on tyle równy\n",
        ", ponieważ zawsze liczba kubełków powinna zależeć od wielkości danych wejściowych oraz konieczne jest liniowe przejście po tablicy i umieszczenie wartości w odpowiednich wiaderkach)\n",
        "\n",
        " $ O(k) $- czas sortowania wszystkich kubełków (zależny od liczby kubełków) (przyjmujemy, że czas sortowania pojedynczego kubełka jest w przybliżeniu stały, ponieważ zawiera on niewielką liczbę elementów; dokładniej, to skoro $ kn $\n",
        ", to iloraz $ n/k $\n",
        "\n",
        ", który wynosi tyle, ile przybliżona liczba elementów, które przypadają na jeden kubełek, jest stały (zwykle ustalamy tę liczbę odgórnie, zamiast liczby kubełków))\n",
        "\n",
        "UWAGA:\n",
        "Aby osiągnąć złożoność liniową, musimy ustalić tak wartość $ k $\n",
        ", aby zależała ona od $ n $\n",
        "."
      ],
      "metadata": {
        "id": "ESInquxC-cdz"
      }
    },
    {
      "cell_type": "markdown",
      "source": [
        "#### Najgorszy przypadek\n",
        "\n",
        "$ O(n^2) $\n",
        "\n",
        "W praktyce, przy dobrym doborze wiaderek, istnieje niewielka szansa na osiągnięcie złożoności $ O(n^2) $\n",
        ". Złożoność będzie tym bliższa złożoności pesymistycznej ( $ O(n^2) $\n",
        "), im więcej wartości trafi do pojedynczego wiaderka (w szczególności, gdy wszystkie wartości znajdą się w jednym wiaderku, a wiaderka sortujemy algorytmem o złożoności $ O(n^2) $\n",
        ")"
      ],
      "metadata": {
        "id": "Z4HuF3H5-cmq"
      }
    },
    {
      "cell_type": "markdown",
      "source": [
        "### Złożoność pamięciowa\n"
      ],
      "metadata": {
        "id": "0TDpypMa4Wlz"
      }
    },
    {
      "cell_type": "markdown",
      "source": [
        "Każdy przypadek: $ O(n + k) $\n",
        "\n",
        "Zależy od liczby elementów, jakie otrzymujemy w tablicy do posortowania oraz od liczby kubełków, jakie tworzymy. Ponieważ powinniśmy dobrać tak liczbę kubełków  $ k $\n",
        ", aby $ k = θ(n)$\n",
        " (asymptotycznie $ k $\n",
        " musi być liniowe względem rozmiaru tablicy do posortowania), otrzymamy złożoność pamięciową $ O(n+n) = O(n) $"
      ],
      "metadata": {
        "id": "FBjVV0ZS6RsD"
      }
    },
    {
      "cell_type": "markdown",
      "source": [
        "### Sortowanie w miejscu? - Nie\n",
        "\n",
        "Zawsze musimy użyć dodatkowej pamięci, która jest zależna od danych wejściowych (tu od liczby elementów do posortowania oraz liczby wiaderek, która również zależy od wielkości danych wejściowych)."
      ],
      "metadata": {
        "id": "Ayiy_CKS4Wlz"
      }
    },
    {
      "cell_type": "markdown",
      "source": [
        "### Implementacja 1 (z góry podana liczba kubełków, przy pomocy Insertion Sort)"
      ],
      "metadata": {
        "id": "aeftaW3r4VPo"
      }
    },
    {
      "cell_type": "code",
      "source": [
        "def insertionSort(arr):\n",
        "  for i in range(1,len(arr)):\n",
        "    key = arr[i]\n",
        "    j = i - 1\n",
        "    while j >= 0 and arr[j] > key:\n",
        "      arr[j+1] = arr[j]\n",
        "      j -= 1\n",
        "    arr[j+1] = key\n",
        "  return arr\n",
        "\n",
        "def minmax(arr):\n",
        "  global_min = global_max = arr[-1]\n",
        "\n",
        "  for i in range(0,len(arr)-1,2):\n",
        "    if arr[i] > arr[i+1]:\n",
        "      if arr[i] > global_max: global_max = arr[i]\n",
        "      if arr[i+1] < global_min: global_min = arr[i+1]\n",
        "    else:\n",
        "      if arr[i+1] > global_max: global_max = arr[i+1]\n",
        "      if arr[i] < global_min: global_min = arr[i]\n",
        "  return global_min, global_max\n",
        "\n",
        "def get_bucket_index(num, min_val, bucket_range, k):\n",
        "  return min(k-1,int((num - min_val) / bucket_range))\n",
        "\n",
        "def bucketSort(arr,k):\n",
        "  _min,_max = minmax(arr)\n",
        "  bucket_range = (_max - _min) / k\n",
        "  buckets = [[] for _ in range(k)]\n",
        "  for num in arr:\n",
        "    idx = get_bucket_index(num, _min, bucket_range, k)\n",
        "    buckets[idx].append(num)\n",
        "\n",
        "  sorted_arr = []\n",
        "  for bucket in buckets:\n",
        "    #print(bucket)\n",
        "    sorted_arr.extend(insertionSort(bucket))\n",
        "\n",
        "  for i in range(len(arr)):\n",
        "    arr[i]=sorted_arr[i]"
      ],
      "metadata": {
        "id": "Mz_uhQBSCJDF"
      },
      "execution_count": null,
      "outputs": []
    },
    {
      "cell_type": "code",
      "source": [
        "arr = generate_data(data_type='random_float',max_value=10,size =20)\n",
        "print(arr)\n",
        "bucketSort(arr,10)\n",
        "print(arr)"
      ],
      "metadata": {
        "colab": {
          "base_uri": "https://localhost:8080/"
        },
        "id": "sy06ZgXjH7Og",
        "outputId": "0c0acde2-c6d1-41f8-a779-c49d00a62c9c"
      },
      "execution_count": null,
      "outputs": [
        {
          "output_type": "stream",
          "name": "stdout",
          "text": [
            "[3.65, 9.19, 1.3, 7.39, 7.72, 0.97, 2.3, 6.32, 0.99, 8.5, 3.74, 7.74, 8.22, 8.65, 6.95, 5.58, 6.33, 7.33, 3.5, 1.79]\n",
            "[0.97, 0.99, 1.3, 1.79, 2.3, 3.5, 3.65, 3.74, 5.58, 6.32, 6.33, 6.95, 7.33, 7.39, 7.72, 7.74, 8.22, 8.5, 8.65, 9.19]\n"
          ]
        }
      ]
    }
  ]
}
